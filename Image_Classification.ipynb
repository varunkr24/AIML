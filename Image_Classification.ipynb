{
  "nbformat": 4,
  "nbformat_minor": 0,
  "metadata": {
    "colab": {
      "name": "Image Classification.ipynb",
      "provenance": [],
      "authorship_tag": "ABX9TyO9Kbqhzr6NJ1krOb8pyGb1",
      "include_colab_link": true
    },
    "kernelspec": {
      "name": "python3",
      "display_name": "Python 3"
    },
    "accelerator": "GPU"
  },
  "cells": [
    {
      "cell_type": "markdown",
      "metadata": {
        "id": "view-in-github",
        "colab_type": "text"
      },
      "source": [
        "<a href=\"https://colab.research.google.com/github/varunkr24/AIML/blob/Python/Image_Classification.ipynb\" target=\"_parent\"><img src=\"https://colab.research.google.com/assets/colab-badge.svg\" alt=\"Open In Colab\"/></a>"
      ]
    },
    {
      "cell_type": "markdown",
      "metadata": {
        "id": "vYGJ6BJ--_PC"
      },
      "source": [
        "**DATA DESCRIPTION:**    \r\n",
        "The SVHN (Street View Housing Number) is a real-world image dataset for developing machine learning and object\r\n",
        "recognition algorithms with the minimal requirement on data formatting but comes from a significantly harder,\r\n",
        "unsolved, real-world problem (recognising digits and numbers in natural scene images). SVHN is obtained from\r\n",
        "house numbers in Google Street View images. Where the labels for each of this image are the prominent number in that image i.e. 2,6,7 and 4 respectively.The dataset is in the form of h5py files.   \r\n",
        "One can read about this file format here: http://docs.h5py.org/en/stable/high/dataset.html"
      ]
    },
    {
      "cell_type": "markdown",
      "metadata": {
        "id": "ZUdlRUWY_QBe"
      },
      "source": [
        "**PROJECT OBJECTIVE:**    \r\n",
        "Build a digit classifier on the SVHN (Street View Housing Number) dataset.   \r\n",
        "Data pre-processing and visualisation.   \r\n",
        "Design, train, tune and test a neural network image classifier.   \r\n",
        "Plot the training loss, validation loss vs number of epochs and training accuracy, validation accuracy vs number of epochs plot   "
      ]
    },
    {
      "cell_type": "markdown",
      "metadata": {
        "id": "Y8G72tCdBesS"
      },
      "source": [
        "**Import some basic libraries needed**"
      ]
    },
    {
      "cell_type": "code",
      "metadata": {
        "id": "IlspsTFtIDZD"
      },
      "source": [
        "import numpy as np\r\n",
        "import h5py\r\n",
        "import pandas as pd\r\n",
        "import seaborn as sns\r\n",
        "import matplotlib.pyplot as plt\r\n",
        "%matplotlib inline"
      ],
      "execution_count": null,
      "outputs": []
    },
    {
      "cell_type": "markdown",
      "metadata": {
        "id": "9Y5xVO6SBygK"
      },
      "source": [
        "**Import tensrorflow and check its version**"
      ]
    },
    {
      "cell_type": "code",
      "metadata": {
        "colab": {
          "base_uri": "https://localhost:8080/",
          "height": 35
        },
        "id": "hJSkwL8mu1it",
        "outputId": "27cc74cd-303a-46a8-ee4c-58f3e6754795"
      },
      "source": [
        "%tensorflow_version 2.x\r\n",
        "import tensorflow\r\n",
        "tensorflow.__version__"
      ],
      "execution_count": null,
      "outputs": [
        {
          "output_type": "execute_result",
          "data": {
            "application/vnd.google.colaboratory.intrinsic+json": {
              "type": "string"
            },
            "text/plain": [
              "'2.4.1'"
            ]
          },
          "metadata": {
            "tags": []
          },
          "execution_count": 2
        }
      ]
    },
    {
      "cell_type": "code",
      "metadata": {
        "id": "PhUUU114u8Hr"
      },
      "source": [
        "import random\r\n",
        "random.seed(0)\r\n",
        "\r\n",
        "# Ignore the warnings\r\n",
        "import warnings\r\n",
        "warnings.filterwarnings(\"ignore\")"
      ],
      "execution_count": null,
      "outputs": []
    },
    {
      "cell_type": "code",
      "metadata": {
        "colab": {
          "base_uri": "https://localhost:8080/"
        },
        "id": "XoxJ1u1wG5xJ",
        "outputId": "f66945c8-e05b-4f24-d0bd-c32226567662"
      },
      "source": [
        "from google.colab import drive\r\n",
        "drive.mount('/content/drive')"
      ],
      "execution_count": null,
      "outputs": [
        {
          "output_type": "stream",
          "text": [
            "Mounted at /content/drive\n"
          ],
          "name": "stdout"
        }
      ]
    },
    {
      "cell_type": "code",
      "metadata": {
        "id": "98RwSg2fG7Pu"
      },
      "source": [
        "path = \"/content/drive/MyDrive/AIML/Projects/NN Project/NN Project/Autonomous_Vehicles_SVHN_single_grey1.h5\""
      ],
      "execution_count": null,
      "outputs": []
    },
    {
      "cell_type": "markdown",
      "metadata": {
        "id": "uLrdtz-HGJ8a"
      },
      "source": [
        "**Importing dataset**"
      ]
    },
    {
      "cell_type": "code",
      "metadata": {
        "id": "OUKBzn5VHo3T"
      },
      "source": [
        "f = h5py.File(path, 'r')"
      ],
      "execution_count": null,
      "outputs": []
    },
    {
      "cell_type": "markdown",
      "metadata": {
        "id": "WJd5zqo9GbhY"
      },
      "source": [
        "**List datasets**"
      ]
    },
    {
      "cell_type": "code",
      "metadata": {
        "colab": {
          "base_uri": "https://localhost:8080/"
        },
        "id": "9nsWgSxIVw_v",
        "outputId": "990fe800-bb01-41a8-f6bc-a9b9ac4762be"
      },
      "source": [
        "list(f.keys())"
      ],
      "execution_count": null,
      "outputs": [
        {
          "output_type": "execute_result",
          "data": {
            "text/plain": [
              "['X_test', 'X_train', 'X_val', 'y_test', 'y_train', 'y_val']"
            ]
          },
          "metadata": {
            "tags": []
          },
          "execution_count": 7
        }
      ]
    },
    {
      "cell_type": "markdown",
      "metadata": {
        "id": "0lSwIn6LGfeX"
      },
      "source": [
        "**Checking shape**"
      ]
    },
    {
      "cell_type": "code",
      "metadata": {
        "colab": {
          "base_uri": "https://localhost:8080/"
        },
        "id": "0RgcAM-TcgPv",
        "outputId": "3f78f4f5-1fae-437d-883c-2a6c11def566"
      },
      "source": [
        "f['X_test'].shape"
      ],
      "execution_count": null,
      "outputs": [
        {
          "output_type": "execute_result",
          "data": {
            "text/plain": [
              "(18000, 32, 32)"
            ]
          },
          "metadata": {
            "tags": []
          },
          "execution_count": 8
        }
      ]
    },
    {
      "cell_type": "markdown",
      "metadata": {
        "id": "McOHu1xFGpdM"
      },
      "source": [
        "*X_test has 18000 images of width 32(pixels) and height 32(pixels)*"
      ]
    },
    {
      "cell_type": "code",
      "metadata": {
        "colab": {
          "base_uri": "https://localhost:8080/"
        },
        "id": "xpDgKX_hVhwT",
        "outputId": "41c2a3e0-3b6f-42d6-fb06-8d3c72015738"
      },
      "source": [
        "f['X_train'].shape"
      ],
      "execution_count": null,
      "outputs": [
        {
          "output_type": "execute_result",
          "data": {
            "text/plain": [
              "(42000, 32, 32)"
            ]
          },
          "metadata": {
            "tags": []
          },
          "execution_count": 9
        }
      ]
    },
    {
      "cell_type": "markdown",
      "metadata": {
        "id": "-Qxqc1wRHLpp"
      },
      "source": [
        "*X_train has 42000 images of width 32(pixels) and height 32(pixels)*"
      ]
    },
    {
      "cell_type": "markdown",
      "metadata": {
        "id": "ogllmD9EHZMk"
      },
      "source": [
        "**Visualise image in the dataset**"
      ]
    },
    {
      "cell_type": "code",
      "metadata": {
        "colab": {
          "base_uri": "https://localhost:8080/",
          "height": 300
        },
        "id": "PzEGDFecpavb",
        "outputId": "cbf171eb-9acf-4fa1-97b7-703d920b8fcb"
      },
      "source": [
        "import matplotlib.pyplot as plt\r\n",
        "%matplotlib inline\r\n",
        "print(\"Label: {}\".format(f['y_train'][8000]))\r\n",
        "plt.imshow(f['X_train'][8000], cmap='gray')"
      ],
      "execution_count": null,
      "outputs": [
        {
          "output_type": "stream",
          "text": [
            "Label: 7\n"
          ],
          "name": "stdout"
        },
        {
          "output_type": "execute_result",
          "data": {
            "text/plain": [
              "<matplotlib.image.AxesImage at 0x7f676a666210>"
            ]
          },
          "metadata": {
            "tags": []
          },
          "execution_count": 10
        },
        {
          "output_type": "display_data",
          "data": {
            "image/png": "[encoded data removed]",
            "text/plain": [
              "<Figure size 432x288 with 1 Axes>"
            ]
          },
          "metadata": {
            "tags": [],
            "needs_background": "light"
          }
        }
      ]
    },
    {
      "cell_type": "markdown",
      "metadata": {
        "id": "jq_Nq1zoHqTP"
      },
      "source": [
        "*Image at 8000 index number is an image of number 7*"
      ]
    },
    {
      "cell_type": "markdown",
      "metadata": {
        "id": "wyXcuezzICv7"
      },
      "source": [
        "**Print shape of all datasets**"
      ]
    },
    {
      "cell_type": "code",
      "metadata": {
        "colab": {
          "base_uri": "https://localhost:8080/"
        },
        "id": "Vp2j51DkvQsF",
        "outputId": "8a7758d9-0e90-4d12-da8a-322fb5702883"
      },
      "source": [
        "print(f['X_train'].shape)\r\n",
        "print(f['y_train'].shape)\r\n",
        "print(f['X_test'].shape)\r\n",
        "print(f['y_test'].shape)\r\n",
        "print(f['X_val'].shape)\r\n",
        "print(f['y_val'].shape)"
      ],
      "execution_count": null,
      "outputs": [
        {
          "output_type": "stream",
          "text": [
            "(42000, 32, 32)\n",
            "(42000,)\n",
            "(18000, 32, 32)\n",
            "(18000,)\n",
            "(60000, 32, 32)\n",
            "(60000,)\n"
          ],
          "name": "stdout"
        }
      ]
    },
    {
      "cell_type": "markdown",
      "metadata": {
        "id": "GpAk5z1FINf0"
      },
      "source": [
        "X_val contains highest number of images i.e. 60,000, with their corresponding labels in y_val.   \r\n",
        "Training model on dataset containing most of the images would not be a bad idea. So in next step, we are going save X_val as x_train and X_train as x_val.   \r\n",
        "We will train our model on x_train (originally X_val) and validate on x_val (originally X_train) and finally be tested on untouched dataset i.e. x_test (X_test)"
      ]
    },
    {
      "cell_type": "markdown",
      "metadata": {
        "id": "yOR8LvSRLZ-Q"
      },
      "source": [
        "#Data Pre-processing"
      ]
    },
    {
      "cell_type": "markdown",
      "metadata": {
        "id": "OZttUPx9Lhwu"
      },
      "source": [
        "**Reshape dataset:**   \r\n",
        "Reshaping dataset into 32, 32, 1 where 1 represents grayscale channel."
      ]
    },
    {
      "cell_type": "code",
      "metadata": {
        "id": "PaoAaJcOhGIS"
      },
      "source": [
        "x_train = f['X_val'].value.reshape(f['X_val'].shape[0], 32, 32,1)\r\n",
        "x_val = f['X_train'].value.reshape(f['X_train'].shape[0], 32, 32,1)\r\n",
        "x_test = f['X_test'].value.reshape(f['X_test'].shape[0], 32, 32,1)"
      ],
      "execution_count": null,
      "outputs": []
    },
    {
      "cell_type": "code",
      "metadata": {
        "id": "YQGbeNjbo9XW"
      },
      "source": [
        "y_train = f['y_val']\r\n",
        "y_val = f['y_train']\r\n",
        "y_test = f['y_test']"
      ],
      "execution_count": null,
      "outputs": []
    },
    {
      "cell_type": "code",
      "metadata": {
        "colab": {
          "base_uri": "https://localhost:8080/"
        },
        "id": "o8fvsWi88N6G",
        "outputId": "d2faa3e1-127f-4ebf-d426-67c2036d9de5"
      },
      "source": [
        "x_train.shape"
      ],
      "execution_count": null,
      "outputs": [
        {
          "output_type": "execute_result",
          "data": {
            "text/plain": [
              "(60000, 32, 32, 1)"
            ]
          },
          "metadata": {
            "tags": []
          },
          "execution_count": 14
        }
      ]
    },
    {
      "cell_type": "markdown",
      "metadata": {
        "id": "jwdEDCShLESY"
      },
      "source": [
        "**Normalize dataset:**   \r\n",
        "Colour of a grayscale image is represented on scale of 0 to 255. So division by 255 will normailize in such a way that 0 reperesnt 0 and 1 represent 255."
      ]
    },
    {
      "cell_type": "code",
      "metadata": {
        "id": "YxHopE-6ZRsv"
      },
      "source": [
        "x_train = x_train.astype('float32')/255\r\n",
        "x_val = x_val.astype('float32')/255\r\n",
        "x_test = x_test.astype('float32')/255"
      ],
      "execution_count": null,
      "outputs": []
    },
    {
      "cell_type": "code",
      "metadata": {
        "colab": {
          "base_uri": "https://localhost:8080/"
        },
        "id": "Lz47AFUVhodM",
        "outputId": "e978fcbc-ba77-4b0e-aaa9-8265acf2abaa"
      },
      "source": [
        "print(\"x_train shape:\", x_train.shape)\r\n",
        "print(\"Images in x_train:\", x_train.shape[0])\r\n",
        "print(\"Images in x_test:\", x_test.shape[0])\r\n",
        "print(\"Max value in x_train:\", x_test.max())\r\n",
        "print(\"Min value in x_train:\", x_test.min())\r\n",
        "print(\"Max value in x_test:\", x_test.max())\r\n",
        "print(\"Min value in x_test:\", x_test.min())"
      ],
      "execution_count": null,
      "outputs": [
        {
          "output_type": "stream",
          "text": [
            "x_train shape: (60000, 32, 32, 1)\n",
            "Images in x_train: 60000\n",
            "Images in x_test: 18000\n",
            "Max value in x_train: 0.9999\n",
            "Min value in x_train: 0.0\n",
            "Max value in x_test: 0.9999\n",
            "Min value in x_test: 0.0\n"
          ],
          "name": "stdout"
        }
      ]
    },
    {
      "cell_type": "markdown",
      "metadata": {
        "id": "hbqjeO2MTfiu"
      },
      "source": [
        "**Change y labels to categorical**"
      ]
    },
    {
      "cell_type": "code",
      "metadata": {
        "id": "TXODZAmIh-hk"
      },
      "source": [
        "from tensorflow.keras.utils import to_categorical\r\n",
        "\r\n",
        "y_train = to_categorical(y_train, num_classes=10)\r\n",
        "y_val = to_categorical(y_val, num_classes=10)\r\n",
        "y_test = to_categorical(y_test, num_classes=10)"
      ],
      "execution_count": null,
      "outputs": []
    },
    {
      "cell_type": "code",
      "metadata": {
        "colab": {
          "base_uri": "https://localhost:8080/"
        },
        "id": "fxCwUj3Gitoo",
        "outputId": "74537541-1cf1-43dc-8b6e-16ae23843913"
      },
      "source": [
        "print(\"Shape of y_train:\", y_train.shape)\r\n",
        "print(\"One value of y_train:\", y_train[0])"
      ],
      "execution_count": null,
      "outputs": [
        {
          "output_type": "stream",
          "text": [
            "Shape of y_train: (60000, 10)\n",
            "One value of y_train: [1. 0. 0. 0. 0. 0. 0. 0. 0. 0.]\n"
          ],
          "name": "stdout"
        }
      ]
    },
    {
      "cell_type": "markdown",
      "metadata": {
        "id": "rlrShg1cTsUF"
      },
      "source": [
        "#Build Image classifier"
      ]
    },
    {
      "cell_type": "markdown",
      "metadata": {
        "id": "2Doa-yrnTye5"
      },
      "source": [
        "**Call important labraries from tensorflow**"
      ]
    },
    {
      "cell_type": "code",
      "metadata": {
        "id": "iZ84huBjt9cG"
      },
      "source": [
        "from tensorflow.keras.models import Sequential\r\n",
        "from tensorflow.keras.layers import Flatten, Dense\r\n",
        "from tensorflow.keras.wrappers.scikit_learn import KerasClassifier"
      ],
      "execution_count": null,
      "outputs": []
    },
    {
      "cell_type": "markdown",
      "metadata": {
        "id": "ioNWy9PvT_1f"
      },
      "source": [
        "**Model 1:**   \r\n",
        "Build a model with single hidden layer containing 125 neurons, batch size = 32 and epochs = 50"
      ]
    },
    {
      "cell_type": "code",
      "metadata": {
        "colab": {
          "base_uri": "https://localhost:8080/"
        },
        "id": "e_2rQ04TuBp8",
        "outputId": "c870d145-c34d-4b9c-b871-df71f0dc6bae"
      },
      "source": [
        "model = Sequential()\r\n",
        "model.add(Flatten())\r\n",
        "model.add(Dense(128, activation=\"relu\"))\r\n",
        "model.add(Dense(10, activation=\"softmax\"))\r\n",
        "\r\n",
        "# Compile the model\r\n",
        "model.compile(loss=\"categorical_crossentropy\", metrics=[\"accuracy\"], optimizer=\"sgd\")\r\n",
        "\r\n",
        "# Fit the model\r\n",
        "model.fit(x=x_train, y=y_train, batch_size=32, epochs=50, validation_data=(x_val, y_val))"
      ],
      "execution_count": null,
      "outputs": [
        {
          "output_type": "stream",
          "text": [
            "Epoch 1/50\n",
            "1875/1875 [==============================] - 9s 3ms/step - loss: 2.2968 - accuracy: 0.1368 - val_loss: 2.1648 - val_accuracy: 0.2732\n",
            "Epoch 2/50\n",
            "1875/1875 [==============================] - 5s 3ms/step - loss: 2.0834 - accuracy: 0.3465 - val_loss: 1.8291 - val_accuracy: 0.4596\n",
            "Epoch 3/50\n",
            "1875/1875 [==============================] - 6s 3ms/step - loss: 1.7403 - accuracy: 0.5125 - val_loss: 1.5181 - val_accuracy: 0.5959\n",
            "Epoch 4/50\n",
            "1875/1875 [==============================] - 5s 3ms/step - loss: 1.4781 - accuracy: 0.5953 - val_loss: 1.3381 - val_accuracy: 0.6307\n",
            "Epoch 5/50\n",
            "1875/1875 [==============================] - 5s 3ms/step - loss: 1.2943 - accuracy: 0.6401 - val_loss: 1.2067 - val_accuracy: 0.6677\n",
            "Epoch 6/50\n",
            "1875/1875 [==============================] - 5s 3ms/step - loss: 1.1920 - accuracy: 0.6640 - val_loss: 1.1404 - val_accuracy: 0.6753\n",
            "Epoch 7/50\n",
            "1875/1875 [==============================] - 6s 3ms/step - loss: 1.1258 - accuracy: 0.6769 - val_loss: 1.0815 - val_accuracy: 0.6916\n",
            "Epoch 8/50\n",
            "1875/1875 [==============================] - 6s 3ms/step - loss: 1.0742 - accuracy: 0.6879 - val_loss: 1.0366 - val_accuracy: 0.6977\n",
            "Epoch 9/50\n",
            "1875/1875 [==============================] - 6s 3ms/step - loss: 1.0277 - accuracy: 0.7032 - val_loss: 0.9909 - val_accuracy: 0.7145\n",
            "Epoch 10/50\n",
            "1875/1875 [==============================] - 5s 3ms/step - loss: 0.9955 - accuracy: 0.7088 - val_loss: 1.0039 - val_accuracy: 0.7076\n",
            "Epoch 11/50\n",
            "1875/1875 [==============================] - 6s 3ms/step - loss: 0.9642 - accuracy: 0.7169 - val_loss: 0.9608 - val_accuracy: 0.7184\n",
            "Epoch 12/50\n",
            "1875/1875 [==============================] - 6s 3ms/step - loss: 0.9312 - accuracy: 0.7271 - val_loss: 0.9234 - val_accuracy: 0.7270\n",
            "Epoch 13/50\n",
            "1875/1875 [==============================] - 5s 3ms/step - loss: 0.9116 - accuracy: 0.7318 - val_loss: 0.8836 - val_accuracy: 0.7417\n",
            "Epoch 14/50\n",
            "1875/1875 [==============================] - 5s 3ms/step - loss: 0.8892 - accuracy: 0.7375 - val_loss: 0.8550 - val_accuracy: 0.7485\n",
            "Epoch 15/50\n",
            "1875/1875 [==============================] - 6s 3ms/step - loss: 0.8756 - accuracy: 0.7430 - val_loss: 0.8317 - val_accuracy: 0.7600\n",
            "Epoch 16/50\n",
            "1875/1875 [==============================] - 6s 3ms/step - loss: 0.8554 - accuracy: 0.7508 - val_loss: 0.8360 - val_accuracy: 0.7542\n",
            "Epoch 17/50\n",
            "1875/1875 [==============================] - 6s 3ms/step - loss: 0.8323 - accuracy: 0.7554 - val_loss: 0.8106 - val_accuracy: 0.7617\n",
            "Epoch 18/50\n",
            "1875/1875 [==============================] - 6s 3ms/step - loss: 0.8177 - accuracy: 0.7604 - val_loss: 0.7873 - val_accuracy: 0.7697\n",
            "Epoch 19/50\n",
            "1875/1875 [==============================] - 6s 3ms/step - loss: 0.8021 - accuracy: 0.7630 - val_loss: 0.7875 - val_accuracy: 0.7695\n",
            "Epoch 20/50\n",
            "1875/1875 [==============================] - 5s 3ms/step - loss: 0.7787 - accuracy: 0.7727 - val_loss: 0.7681 - val_accuracy: 0.7753\n",
            "Epoch 21/50\n",
            "1875/1875 [==============================] - 6s 3ms/step - loss: 0.7675 - accuracy: 0.7745 - val_loss: 0.7806 - val_accuracy: 0.7710\n",
            "Epoch 22/50\n",
            "1875/1875 [==============================] - 6s 3ms/step - loss: 0.7495 - accuracy: 0.7793 - val_loss: 0.7359 - val_accuracy: 0.7857\n",
            "Epoch 23/50\n",
            "1875/1875 [==============================] - 6s 3ms/step - loss: 0.7465 - accuracy: 0.7811 - val_loss: 0.7139 - val_accuracy: 0.7913\n",
            "Epoch 24/50\n",
            "1875/1875 [==============================] - 5s 3ms/step - loss: 0.7319 - accuracy: 0.7851 - val_loss: 0.7356 - val_accuracy: 0.7831\n",
            "Epoch 25/50\n",
            "1875/1875 [==============================] - 6s 3ms/step - loss: 0.7210 - accuracy: 0.7884 - val_loss: 0.7008 - val_accuracy: 0.7980\n",
            "Epoch 26/50\n",
            "1875/1875 [==============================] - 5s 3ms/step - loss: 0.7083 - accuracy: 0.7925 - val_loss: 0.6981 - val_accuracy: 0.7953\n",
            "Epoch 27/50\n",
            "1875/1875 [==============================] - 6s 3ms/step - loss: 0.6979 - accuracy: 0.7967 - val_loss: 0.6735 - val_accuracy: 0.8060\n",
            "Epoch 28/50\n",
            "1875/1875 [==============================] - 6s 3ms/step - loss: 0.6903 - accuracy: 0.7973 - val_loss: 0.6783 - val_accuracy: 0.8005\n",
            "Epoch 29/50\n",
            "1875/1875 [==============================] - 5s 3ms/step - loss: 0.6813 - accuracy: 0.8006 - val_loss: 0.7068 - val_accuracy: 0.7920\n",
            "Epoch 30/50\n",
            "1875/1875 [==============================] - 6s 3ms/step - loss: 0.6739 - accuracy: 0.8047 - val_loss: 0.6512 - val_accuracy: 0.8103\n",
            "Epoch 31/50\n",
            "1875/1875 [==============================] - 5s 3ms/step - loss: 0.6678 - accuracy: 0.8055 - val_loss: 0.6516 - val_accuracy: 0.8087\n",
            "Epoch 32/50\n",
            "1875/1875 [==============================] - 5s 3ms/step - loss: 0.6551 - accuracy: 0.8075 - val_loss: 0.6307 - val_accuracy: 0.8198\n",
            "Epoch 33/50\n",
            "1875/1875 [==============================] - 6s 3ms/step - loss: 0.6427 - accuracy: 0.8125 - val_loss: 0.6369 - val_accuracy: 0.8154\n",
            "Epoch 34/50\n",
            "1875/1875 [==============================] - 5s 3ms/step - loss: 0.6383 - accuracy: 0.8147 - val_loss: 0.6212 - val_accuracy: 0.8192\n",
            "Epoch 35/50\n",
            "1875/1875 [==============================] - 5s 3ms/step - loss: 0.6374 - accuracy: 0.8149 - val_loss: 0.6315 - val_accuracy: 0.8133\n",
            "Epoch 36/50\n",
            "1875/1875 [==============================] - 5s 3ms/step - loss: 0.6218 - accuracy: 0.8203 - val_loss: 0.6158 - val_accuracy: 0.8211\n",
            "Epoch 37/50\n",
            "1875/1875 [==============================] - 5s 3ms/step - loss: 0.6243 - accuracy: 0.8159 - val_loss: 0.6559 - val_accuracy: 0.8067\n",
            "Epoch 38/50\n",
            "1875/1875 [==============================] - 5s 3ms/step - loss: 0.6172 - accuracy: 0.8194 - val_loss: 0.5866 - val_accuracy: 0.8336\n",
            "Epoch 39/50\n",
            "1875/1875 [==============================] - 5s 3ms/step - loss: 0.6063 - accuracy: 0.8242 - val_loss: 0.5962 - val_accuracy: 0.8275\n",
            "Epoch 40/50\n",
            "1875/1875 [==============================] - 5s 3ms/step - loss: 0.6014 - accuracy: 0.8245 - val_loss: 0.5937 - val_accuracy: 0.8265\n",
            "Epoch 41/50\n",
            "1875/1875 [==============================] - 6s 3ms/step - loss: 0.5979 - accuracy: 0.8242 - val_loss: 0.5832 - val_accuracy: 0.8302\n",
            "Epoch 42/50\n",
            "1875/1875 [==============================] - 5s 3ms/step - loss: 0.5951 - accuracy: 0.8250 - val_loss: 0.5703 - val_accuracy: 0.8361\n",
            "Epoch 43/50\n",
            "1875/1875 [==============================] - 6s 3ms/step - loss: 0.5971 - accuracy: 0.8270 - val_loss: 0.5988 - val_accuracy: 0.8184\n",
            "Epoch 44/50\n",
            "1875/1875 [==============================] - 6s 3ms/step - loss: 0.5880 - accuracy: 0.8301 - val_loss: 0.5772 - val_accuracy: 0.8273\n",
            "Epoch 45/50\n",
            "1875/1875 [==============================] - 6s 3ms/step - loss: 0.5789 - accuracy: 0.8325 - val_loss: 0.5522 - val_accuracy: 0.8423\n",
            "Epoch 46/50\n",
            "1875/1875 [==============================] - 6s 3ms/step - loss: 0.5743 - accuracy: 0.8316 - val_loss: 0.5895 - val_accuracy: 0.8260\n",
            "Epoch 47/50\n",
            "1875/1875 [==============================] - 6s 3ms/step - loss: 0.5724 - accuracy: 0.8289 - val_loss: 0.5664 - val_accuracy: 0.8338\n",
            "Epoch 48/50\n",
            "1875/1875 [==============================] - 5s 3ms/step - loss: 0.5762 - accuracy: 0.8334 - val_loss: 0.5516 - val_accuracy: 0.8398\n",
            "Epoch 49/50\n",
            "1875/1875 [==============================] - 6s 3ms/step - loss: 0.5658 - accuracy: 0.8339 - val_loss: 0.5307 - val_accuracy: 0.8482\n",
            "Epoch 50/50\n",
            "1875/1875 [==============================] - 5s 3ms/step - loss: 0.5632 - accuracy: 0.8353 - val_loss: 0.5377 - val_accuracy: 0.8452\n"
          ],
          "name": "stdout"
        },
        {
          "output_type": "execute_result",
          "data": {
            "text/plain": [
              "<tensorflow.python.keras.callbacks.History at 0x7f671e0697d0>"
            ]
          },
          "metadata": {
            "tags": []
          },
          "execution_count": 20
        }
      ]
    },
    {
      "cell_type": "markdown",
      "metadata": {
        "id": "rf2Vp4kiUsfj"
      },
      "source": [
        "*Loss on validation set converged to 0.53 in 50 epochs, gave accuracy of 84%*"
      ]
    },
    {
      "cell_type": "markdown",
      "metadata": {
        "id": "_gH3RnYEVVB0"
      },
      "source": [
        "**Model 2:**   \r\n",
        "Increase hidden layers from 1 to 3 with 128 neurons each. Set epochs = 100."
      ]
    },
    {
      "cell_type": "code",
      "metadata": {
        "id": "GiTkBBJnZNIu"
      },
      "source": [
        ""
      ],
      "execution_count": null,
      "outputs": []
    },
    {
      "cell_type": "code",
      "metadata": {
        "colab": {
          "base_uri": "https://localhost:8080/"
        },
        "id": "fgGHEV1hp1hr",
        "outputId": "4940deb0-1af0-4694-9ec8-2d6ec7b1f757"
      },
      "source": [
        "model1 = Sequential()\r\n",
        "model1.add(Flatten())\r\n",
        "model1.add(Dense(128, activation=\"relu\"))\r\n",
        "model1.add(Dense(128, activation=\"relu\"))\r\n",
        "model1.add(Dense(128, activation=\"relu\"))\r\n",
        "model1.add(Dense(10, activation=\"softmax\"))\r\n",
        "\r\n",
        "# Compile the model\r\n",
        "model1.compile(loss=\"categorical_crossentropy\", metrics=[\"accuracy\"], optimizer=\"sgd\")\r\n",
        "\r\n",
        "# Fit the model\r\n",
        "model1.fit(x=x_train, y=y_train, batch_size=32, epochs=100, validation_data=(x_val, y_val))"
      ],
      "execution_count": null,
      "outputs": [
        {
          "output_type": "stream",
          "text": [
            "Epoch 1/100\n",
            "1875/1875 [==============================] - 6s 3ms/step - loss: 2.2842 - accuracy: 0.1426 - val_loss: 2.0725 - val_accuracy: 0.3021\n",
            "Epoch 2/100\n",
            "1875/1875 [==============================] - 6s 3ms/step - loss: 1.9130 - accuracy: 0.3633 - val_loss: 1.5526 - val_accuracy: 0.4868\n",
            "Epoch 3/100\n",
            "1875/1875 [==============================] - 6s 3ms/step - loss: 1.4603 - accuracy: 0.5302 - val_loss: 1.2409 - val_accuracy: 0.6120\n",
            "Epoch 4/100\n",
            "1875/1875 [==============================] - 6s 3ms/step - loss: 1.2277 - accuracy: 0.6119 - val_loss: 1.1336 - val_accuracy: 0.6452\n",
            "Epoch 5/100\n",
            "1875/1875 [==============================] - 6s 3ms/step - loss: 1.1150 - accuracy: 0.6518 - val_loss: 1.0000 - val_accuracy: 0.6950\n",
            "Epoch 6/100\n",
            "1875/1875 [==============================] - 6s 3ms/step - loss: 1.0357 - accuracy: 0.6800 - val_loss: 0.9705 - val_accuracy: 0.6970\n",
            "Epoch 7/100\n",
            "1875/1875 [==============================] - 6s 3ms/step - loss: 0.9748 - accuracy: 0.6981 - val_loss: 0.8925 - val_accuracy: 0.7285\n",
            "Epoch 8/100\n",
            "1875/1875 [==============================] - 6s 3ms/step - loss: 0.9258 - accuracy: 0.7123 - val_loss: 0.9276 - val_accuracy: 0.7092\n",
            "Epoch 9/100\n",
            "1875/1875 [==============================] - 6s 3ms/step - loss: 0.8862 - accuracy: 0.7267 - val_loss: 0.8543 - val_accuracy: 0.7398\n",
            "Epoch 10/100\n",
            "1875/1875 [==============================] - 6s 3ms/step - loss: 0.8429 - accuracy: 0.7421 - val_loss: 0.8459 - val_accuracy: 0.7372\n",
            "Epoch 11/100\n",
            "1875/1875 [==============================] - 6s 3ms/step - loss: 0.8126 - accuracy: 0.7504 - val_loss: 0.7676 - val_accuracy: 0.7641\n",
            "Epoch 12/100\n",
            "1875/1875 [==============================] - 6s 3ms/step - loss: 0.7672 - accuracy: 0.7664 - val_loss: 0.7493 - val_accuracy: 0.7704\n",
            "Epoch 13/100\n",
            "1875/1875 [==============================] - 6s 3ms/step - loss: 0.7531 - accuracy: 0.7687 - val_loss: 0.7047 - val_accuracy: 0.7869\n",
            "Epoch 14/100\n",
            "1875/1875 [==============================] - 6s 3ms/step - loss: 0.7298 - accuracy: 0.7775 - val_loss: 0.7126 - val_accuracy: 0.7819\n",
            "Epoch 15/100\n",
            "1875/1875 [==============================] - 6s 3ms/step - loss: 0.7147 - accuracy: 0.7824 - val_loss: 0.7118 - val_accuracy: 0.7824\n",
            "Epoch 16/100\n",
            "1875/1875 [==============================] - 6s 3ms/step - loss: 0.6974 - accuracy: 0.7885 - val_loss: 0.6525 - val_accuracy: 0.8024\n",
            "Epoch 17/100\n",
            "1875/1875 [==============================] - 6s 3ms/step - loss: 0.6689 - accuracy: 0.7958 - val_loss: 0.6471 - val_accuracy: 0.8013\n",
            "Epoch 18/100\n",
            "1875/1875 [==============================] - 6s 3ms/step - loss: 0.6636 - accuracy: 0.7999 - val_loss: 0.6355 - val_accuracy: 0.8052\n",
            "Epoch 19/100\n",
            "1875/1875 [==============================] - 6s 3ms/step - loss: 0.6531 - accuracy: 0.8018 - val_loss: 0.6122 - val_accuracy: 0.8137\n",
            "Epoch 20/100\n",
            "1875/1875 [==============================] - 6s 3ms/step - loss: 0.6314 - accuracy: 0.8086 - val_loss: 0.6532 - val_accuracy: 0.7995\n",
            "Epoch 21/100\n",
            "1875/1875 [==============================] - 6s 3ms/step - loss: 0.6214 - accuracy: 0.8087 - val_loss: 0.6675 - val_accuracy: 0.7949\n",
            "Epoch 22/100\n",
            "1875/1875 [==============================] - 6s 3ms/step - loss: 0.6087 - accuracy: 0.8147 - val_loss: 0.6446 - val_accuracy: 0.8013\n",
            "Epoch 23/100\n",
            "1875/1875 [==============================] - 7s 3ms/step - loss: 0.5950 - accuracy: 0.8196 - val_loss: 0.5465 - val_accuracy: 0.8355\n",
            "Epoch 24/100\n",
            "1875/1875 [==============================] - 6s 3ms/step - loss: 0.5931 - accuracy: 0.8185 - val_loss: 0.5866 - val_accuracy: 0.8213\n",
            "Epoch 25/100\n",
            "1875/1875 [==============================] - 6s 3ms/step - loss: 0.5760 - accuracy: 0.8273 - val_loss: 0.5428 - val_accuracy: 0.8352\n",
            "Epoch 26/100\n",
            "1875/1875 [==============================] - 6s 3ms/step - loss: 0.5673 - accuracy: 0.8272 - val_loss: 0.5643 - val_accuracy: 0.8247\n",
            "Epoch 27/100\n",
            "1875/1875 [==============================] - 6s 3ms/step - loss: 0.5529 - accuracy: 0.8330 - val_loss: 0.5691 - val_accuracy: 0.8270\n",
            "Epoch 28/100\n",
            "1875/1875 [==============================] - 6s 3ms/step - loss: 0.5532 - accuracy: 0.8327 - val_loss: 0.5882 - val_accuracy: 0.8188\n",
            "Epoch 29/100\n",
            "1875/1875 [==============================] - 6s 3ms/step - loss: 0.5338 - accuracy: 0.8364 - val_loss: 0.5415 - val_accuracy: 0.8342\n",
            "Epoch 30/100\n",
            "1875/1875 [==============================] - 6s 3ms/step - loss: 0.5343 - accuracy: 0.8359 - val_loss: 0.5382 - val_accuracy: 0.8342\n",
            "Epoch 31/100\n",
            "1875/1875 [==============================] - 6s 3ms/step - loss: 0.5224 - accuracy: 0.8420 - val_loss: 0.5260 - val_accuracy: 0.8401\n",
            "Epoch 32/100\n",
            "1875/1875 [==============================] - 6s 3ms/step - loss: 0.5143 - accuracy: 0.8448 - val_loss: 0.5231 - val_accuracy: 0.8395\n",
            "Epoch 33/100\n",
            "1875/1875 [==============================] - 6s 3ms/step - loss: 0.5034 - accuracy: 0.8468 - val_loss: 0.5129 - val_accuracy: 0.8438\n",
            "Epoch 34/100\n",
            "1875/1875 [==============================] - 6s 3ms/step - loss: 0.4964 - accuracy: 0.8498 - val_loss: 0.4805 - val_accuracy: 0.8544\n",
            "Epoch 35/100\n",
            "1875/1875 [==============================] - 6s 3ms/step - loss: 0.4889 - accuracy: 0.8520 - val_loss: 0.4531 - val_accuracy: 0.8645\n",
            "Epoch 36/100\n",
            "1875/1875 [==============================] - 6s 3ms/step - loss: 0.4928 - accuracy: 0.8500 - val_loss: 0.4753 - val_accuracy: 0.8544\n",
            "Epoch 37/100\n",
            "1875/1875 [==============================] - 6s 3ms/step - loss: 0.4791 - accuracy: 0.8537 - val_loss: 0.4614 - val_accuracy: 0.8578\n",
            "Epoch 38/100\n",
            "1875/1875 [==============================] - 6s 3ms/step - loss: 0.4678 - accuracy: 0.8590 - val_loss: 0.4859 - val_accuracy: 0.8487\n",
            "Epoch 39/100\n",
            "1875/1875 [==============================] - 6s 3ms/step - loss: 0.4638 - accuracy: 0.8575 - val_loss: 0.4365 - val_accuracy: 0.8677\n",
            "Epoch 40/100\n",
            "1875/1875 [==============================] - 6s 3ms/step - loss: 0.4617 - accuracy: 0.8598 - val_loss: 0.4146 - val_accuracy: 0.8749\n",
            "Epoch 41/100\n",
            "1875/1875 [==============================] - 6s 3ms/step - loss: 0.4520 - accuracy: 0.8604 - val_loss: 0.5177 - val_accuracy: 0.8388\n",
            "Epoch 42/100\n",
            "1875/1875 [==============================] - 6s 3ms/step - loss: 0.4524 - accuracy: 0.8618 - val_loss: 0.4286 - val_accuracy: 0.8687\n",
            "Epoch 43/100\n",
            "1875/1875 [==============================] - 6s 3ms/step - loss: 0.4505 - accuracy: 0.8632 - val_loss: 0.4154 - val_accuracy: 0.8719\n",
            "Epoch 44/100\n",
            "1875/1875 [==============================] - 6s 3ms/step - loss: 0.4387 - accuracy: 0.8664 - val_loss: 0.4206 - val_accuracy: 0.8722\n",
            "Epoch 45/100\n",
            "1875/1875 [==============================] - 6s 3ms/step - loss: 0.4361 - accuracy: 0.8661 - val_loss: 0.4576 - val_accuracy: 0.8590\n",
            "Epoch 46/100\n",
            "1875/1875 [==============================] - 6s 3ms/step - loss: 0.4404 - accuracy: 0.8663 - val_loss: 0.4015 - val_accuracy: 0.8787\n",
            "Epoch 47/100\n",
            "1875/1875 [==============================] - 6s 3ms/step - loss: 0.4337 - accuracy: 0.8683 - val_loss: 0.4412 - val_accuracy: 0.8624\n",
            "Epoch 48/100\n",
            "1875/1875 [==============================] - 6s 3ms/step - loss: 0.4150 - accuracy: 0.8715 - val_loss: 0.4104 - val_accuracy: 0.8728\n",
            "Epoch 49/100\n",
            "1875/1875 [==============================] - 6s 3ms/step - loss: 0.4159 - accuracy: 0.8723 - val_loss: 0.4093 - val_accuracy: 0.8742\n",
            "Epoch 50/100\n",
            "1875/1875 [==============================] - 6s 3ms/step - loss: 0.4232 - accuracy: 0.8704 - val_loss: 0.3826 - val_accuracy: 0.8838\n",
            "Epoch 51/100\n",
            "1875/1875 [==============================] - 6s 3ms/step - loss: 0.4096 - accuracy: 0.8738 - val_loss: 0.3747 - val_accuracy: 0.8853\n",
            "Epoch 52/100\n",
            "1875/1875 [==============================] - 6s 3ms/step - loss: 0.3981 - accuracy: 0.8778 - val_loss: 0.3805 - val_accuracy: 0.8823\n",
            "Epoch 53/100\n",
            "1875/1875 [==============================] - 6s 3ms/step - loss: 0.4025 - accuracy: 0.8744 - val_loss: 0.3742 - val_accuracy: 0.8859\n",
            "Epoch 54/100\n",
            "1875/1875 [==============================] - 6s 3ms/step - loss: 0.3972 - accuracy: 0.8767 - val_loss: 0.4387 - val_accuracy: 0.8630\n",
            "Epoch 55/100\n",
            "1875/1875 [==============================] - 6s 3ms/step - loss: 0.3866 - accuracy: 0.8800 - val_loss: 0.3886 - val_accuracy: 0.8803\n",
            "Epoch 56/100\n",
            "1875/1875 [==============================] - 6s 3ms/step - loss: 0.3907 - accuracy: 0.8787 - val_loss: 0.3832 - val_accuracy: 0.8825\n",
            "Epoch 57/100\n",
            "1875/1875 [==============================] - 6s 3ms/step - loss: 0.3859 - accuracy: 0.8807 - val_loss: 0.3661 - val_accuracy: 0.8867\n",
            "Epoch 58/100\n",
            "1875/1875 [==============================] - 6s 3ms/step - loss: 0.3829 - accuracy: 0.8830 - val_loss: 0.3779 - val_accuracy: 0.8812\n",
            "Epoch 59/100\n",
            "1875/1875 [==============================] - 6s 3ms/step - loss: 0.3723 - accuracy: 0.8850 - val_loss: 0.4250 - val_accuracy: 0.8635\n",
            "Epoch 60/100\n",
            "1875/1875 [==============================] - 6s 3ms/step - loss: 0.3748 - accuracy: 0.8825 - val_loss: 0.3601 - val_accuracy: 0.8871\n",
            "Epoch 61/100\n",
            "1875/1875 [==============================] - 6s 3ms/step - loss: 0.3687 - accuracy: 0.8863 - val_loss: 0.3476 - val_accuracy: 0.8925\n",
            "Epoch 62/100\n",
            "1875/1875 [==============================] - 6s 3ms/step - loss: 0.3762 - accuracy: 0.8846 - val_loss: 0.3836 - val_accuracy: 0.8799\n",
            "Epoch 63/100\n",
            "1875/1875 [==============================] - 6s 3ms/step - loss: 0.3674 - accuracy: 0.8867 - val_loss: 0.3683 - val_accuracy: 0.8846\n",
            "Epoch 64/100\n",
            "1875/1875 [==============================] - 6s 3ms/step - loss: 0.3582 - accuracy: 0.8884 - val_loss: 0.3592 - val_accuracy: 0.8856\n",
            "Epoch 65/100\n",
            "1875/1875 [==============================] - 6s 3ms/step - loss: 0.3630 - accuracy: 0.8888 - val_loss: 0.3435 - val_accuracy: 0.8934\n",
            "Epoch 66/100\n",
            "1875/1875 [==============================] - 6s 3ms/step - loss: 0.3498 - accuracy: 0.8909 - val_loss: 0.3585 - val_accuracy: 0.8882\n",
            "Epoch 67/100\n",
            "1875/1875 [==============================] - 6s 3ms/step - loss: 0.3512 - accuracy: 0.8907 - val_loss: 0.3571 - val_accuracy: 0.8881\n",
            "Epoch 68/100\n",
            "1875/1875 [==============================] - 6s 3ms/step - loss: 0.3420 - accuracy: 0.8938 - val_loss: 0.3242 - val_accuracy: 0.8985\n",
            "Epoch 69/100\n",
            "1875/1875 [==============================] - 6s 3ms/step - loss: 0.3410 - accuracy: 0.8947 - val_loss: 0.3459 - val_accuracy: 0.8901\n",
            "Epoch 70/100\n",
            "1875/1875 [==============================] - 6s 3ms/step - loss: 0.3411 - accuracy: 0.8945 - val_loss: 0.3140 - val_accuracy: 0.9036\n",
            "Epoch 71/100\n",
            "1875/1875 [==============================] - 6s 3ms/step - loss: 0.3346 - accuracy: 0.8967 - val_loss: 0.3519 - val_accuracy: 0.8900\n",
            "Epoch 72/100\n",
            "1875/1875 [==============================] - 6s 3ms/step - loss: 0.3354 - accuracy: 0.8942 - val_loss: 0.3198 - val_accuracy: 0.9004\n",
            "Epoch 73/100\n",
            "1875/1875 [==============================] - 6s 3ms/step - loss: 0.3318 - accuracy: 0.8951 - val_loss: 0.3300 - val_accuracy: 0.8967\n",
            "Epoch 74/100\n",
            "1875/1875 [==============================] - 6s 3ms/step - loss: 0.3206 - accuracy: 0.8999 - val_loss: 0.3063 - val_accuracy: 0.9055\n",
            "Epoch 75/100\n",
            "1875/1875 [==============================] - 7s 3ms/step - loss: 0.3223 - accuracy: 0.8982 - val_loss: 0.3017 - val_accuracy: 0.9078\n",
            "Epoch 76/100\n",
            "1875/1875 [==============================] - 6s 3ms/step - loss: 0.3237 - accuracy: 0.8985 - val_loss: 0.3139 - val_accuracy: 0.9030\n",
            "Epoch 77/100\n",
            "1875/1875 [==============================] - 6s 3ms/step - loss: 0.3190 - accuracy: 0.9006 - val_loss: 0.2917 - val_accuracy: 0.9098\n",
            "Epoch 78/100\n",
            "1875/1875 [==============================] - 6s 3ms/step - loss: 0.3179 - accuracy: 0.9011 - val_loss: 0.3001 - val_accuracy: 0.9072\n",
            "Epoch 79/100\n",
            "1875/1875 [==============================] - 6s 3ms/step - loss: 0.3142 - accuracy: 0.9006 - val_loss: 0.2852 - val_accuracy: 0.9126\n",
            "Epoch 80/100\n",
            "1875/1875 [==============================] - 6s 3ms/step - loss: 0.3128 - accuracy: 0.9014 - val_loss: 0.2939 - val_accuracy: 0.9085\n",
            "Epoch 81/100\n",
            "1875/1875 [==============================] - 6s 3ms/step - loss: 0.3094 - accuracy: 0.9038 - val_loss: 0.2674 - val_accuracy: 0.9186\n",
            "Epoch 82/100\n",
            "1875/1875 [==============================] - 6s 3ms/step - loss: 0.3061 - accuracy: 0.9069 - val_loss: 0.2892 - val_accuracy: 0.9090\n",
            "Epoch 83/100\n",
            "1875/1875 [==============================] - 6s 3ms/step - loss: 0.3094 - accuracy: 0.9024 - val_loss: 0.2866 - val_accuracy: 0.9099\n",
            "Epoch 84/100\n",
            "1875/1875 [==============================] - 6s 3ms/step - loss: 0.3022 - accuracy: 0.9043 - val_loss: 0.2841 - val_accuracy: 0.9129\n",
            "Epoch 85/100\n",
            "1875/1875 [==============================] - 6s 3ms/step - loss: 0.2987 - accuracy: 0.9054 - val_loss: 0.2711 - val_accuracy: 0.9180\n",
            "Epoch 86/100\n",
            "1875/1875 [==============================] - 6s 3ms/step - loss: 0.2957 - accuracy: 0.9064 - val_loss: 0.2821 - val_accuracy: 0.9123\n",
            "Epoch 87/100\n",
            "1875/1875 [==============================] - 6s 3ms/step - loss: 0.2916 - accuracy: 0.9086 - val_loss: 0.2807 - val_accuracy: 0.9130\n",
            "Epoch 88/100\n",
            "1875/1875 [==============================] - 6s 3ms/step - loss: 0.2870 - accuracy: 0.9101 - val_loss: 0.3166 - val_accuracy: 0.8996\n",
            "Epoch 89/100\n",
            "1875/1875 [==============================] - 6s 3ms/step - loss: 0.2899 - accuracy: 0.9100 - val_loss: 0.2795 - val_accuracy: 0.9127\n",
            "Epoch 90/100\n",
            "1875/1875 [==============================] - 6s 3ms/step - loss: 0.2874 - accuracy: 0.9092 - val_loss: 0.2829 - val_accuracy: 0.9108\n",
            "Epoch 91/100\n",
            "1875/1875 [==============================] - 6s 3ms/step - loss: 0.2824 - accuracy: 0.9116 - val_loss: 0.2926 - val_accuracy: 0.9065\n",
            "Epoch 92/100\n",
            "1875/1875 [==============================] - 6s 3ms/step - loss: 0.2835 - accuracy: 0.9111 - val_loss: 0.2506 - val_accuracy: 0.9216\n",
            "Epoch 93/100\n",
            "1875/1875 [==============================] - 6s 3ms/step - loss: 0.2773 - accuracy: 0.9127 - val_loss: 0.2659 - val_accuracy: 0.9166\n",
            "Epoch 94/100\n",
            "1875/1875 [==============================] - 6s 3ms/step - loss: 0.2852 - accuracy: 0.9113 - val_loss: 0.2479 - val_accuracy: 0.9234\n",
            "Epoch 95/100\n",
            "1875/1875 [==============================] - 6s 3ms/step - loss: 0.2700 - accuracy: 0.9141 - val_loss: 0.2720 - val_accuracy: 0.9144\n",
            "Epoch 96/100\n",
            "1875/1875 [==============================] - 6s 3ms/step - loss: 0.2715 - accuracy: 0.9148 - val_loss: 0.2507 - val_accuracy: 0.9217\n",
            "Epoch 97/100\n",
            "1875/1875 [==============================] - 6s 3ms/step - loss: 0.2661 - accuracy: 0.9163 - val_loss: 0.2673 - val_accuracy: 0.9153\n",
            "Epoch 98/100\n",
            "1875/1875 [==============================] - 6s 3ms/step - loss: 0.2667 - accuracy: 0.9165 - val_loss: 0.3132 - val_accuracy: 0.8993\n",
            "Epoch 99/100\n",
            "1875/1875 [==============================] - 6s 3ms/step - loss: 0.2657 - accuracy: 0.9155 - val_loss: 0.2584 - val_accuracy: 0.9191\n",
            "Epoch 100/100\n",
            "1875/1875 [==============================] - 6s 3ms/step - loss: 0.2662 - accuracy: 0.9152 - val_loss: 0.2285 - val_accuracy: 0.9303\n"
          ],
          "name": "stdout"
        },
        {
          "output_type": "execute_result",
          "data": {
            "text/plain": [
              "<tensorflow.python.keras.callbacks.History at 0x7f670cf24810>"
            ]
          },
          "metadata": {
            "tags": []
          },
          "execution_count": 21
        }
      ]
    },
    {
      "cell_type": "markdown",
      "metadata": {
        "id": "lxQsAUUUV4P5"
      },
      "source": [
        "*Accuracy increase to 91% from 84% previously*"
      ]
    },
    {
      "cell_type": "markdown",
      "metadata": {
        "id": "zRDVxuvEW4hq"
      },
      "source": [
        "**Model 3:**   \r\n",
        "Increase number of neurons to 256 from 128 keeping number of hidden layers unchanged to 3."
      ]
    },
    {
      "cell_type": "code",
      "metadata": {
        "colab": {
          "base_uri": "https://localhost:8080/"
        },
        "id": "gnv5IIxHmSqG",
        "outputId": "c9b6ceae-de94-40ad-c9ee-c0dd21a6744c"
      },
      "source": [
        "model2 = Sequential()\r\n",
        "model2.add(Flatten())\r\n",
        "model2.add(Dense(256, activation=\"relu\"))\r\n",
        "model2.add(Dense(256, activation=\"relu\"))\r\n",
        "model2.add(Dense(256, activation=\"relu\"))\r\n",
        "model2.add(Dense(10, activation=\"softmax\"))\r\n",
        "\r\n",
        "# Compile the model\r\n",
        "model2.compile(loss=\"categorical_crossentropy\", metrics=[\"accuracy\"], optimizer=\"sgd\")\r\n",
        "\r\n",
        "# Fit the model\r\n",
        "model2.fit(x=x_train, y=y_train, batch_size=32, epochs=100, validation_data=(x_val, y_val))"
      ],
      "execution_count": null,
      "outputs": [
        {
          "output_type": "stream",
          "text": [
            "Epoch 1/100\n",
            "1875/1875 [==============================] - 6s 3ms/step - loss: 2.2867 - accuracy: 0.1441 - val_loss: 2.1567 - val_accuracy: 0.2550\n",
            "Epoch 2/100\n",
            "1875/1875 [==============================] - 6s 3ms/step - loss: 1.9818 - accuracy: 0.3627 - val_loss: 1.4888 - val_accuracy: 0.5354\n",
            "Epoch 3/100\n",
            "1875/1875 [==============================] - 6s 3ms/step - loss: 1.4260 - accuracy: 0.5524 - val_loss: 1.3861 - val_accuracy: 0.5475\n",
            "Epoch 4/100\n",
            "1875/1875 [==============================] - 6s 3ms/step - loss: 1.1855 - accuracy: 0.6306 - val_loss: 1.0648 - val_accuracy: 0.6688\n",
            "Epoch 5/100\n",
            "1875/1875 [==============================] - 6s 3ms/step - loss: 1.0523 - accuracy: 0.6729 - val_loss: 0.9397 - val_accuracy: 0.7145\n",
            "Epoch 6/100\n",
            "1875/1875 [==============================] - 6s 3ms/step - loss: 0.9756 - accuracy: 0.6988 - val_loss: 0.9238 - val_accuracy: 0.7103\n",
            "Epoch 7/100\n",
            "1875/1875 [==============================] - 6s 3ms/step - loss: 0.9082 - accuracy: 0.7205 - val_loss: 0.9463 - val_accuracy: 0.7038\n",
            "Epoch 8/100\n",
            "1875/1875 [==============================] - 6s 3ms/step - loss: 0.8599 - accuracy: 0.7346 - val_loss: 0.8043 - val_accuracy: 0.7514\n",
            "Epoch 9/100\n",
            "1875/1875 [==============================] - 6s 3ms/step - loss: 0.8130 - accuracy: 0.7483 - val_loss: 0.7681 - val_accuracy: 0.7640\n",
            "Epoch 10/100\n",
            "1875/1875 [==============================] - 6s 3ms/step - loss: 0.7800 - accuracy: 0.7623 - val_loss: 0.7673 - val_accuracy: 0.7627\n",
            "Epoch 11/100\n",
            "1875/1875 [==============================] - 6s 3ms/step - loss: 0.7448 - accuracy: 0.7730 - val_loss: 0.6891 - val_accuracy: 0.7922\n",
            "Epoch 12/100\n",
            "1875/1875 [==============================] - 6s 3ms/step - loss: 0.7203 - accuracy: 0.7793 - val_loss: 0.6608 - val_accuracy: 0.7988\n",
            "Epoch 13/100\n",
            "1875/1875 [==============================] - 6s 3ms/step - loss: 0.6874 - accuracy: 0.7873 - val_loss: 0.6322 - val_accuracy: 0.8086\n",
            "Epoch 14/100\n",
            "1875/1875 [==============================] - 6s 3ms/step - loss: 0.6760 - accuracy: 0.7936 - val_loss: 0.6292 - val_accuracy: 0.8080\n",
            "Epoch 15/100\n",
            "1875/1875 [==============================] - 6s 3ms/step - loss: 0.6572 - accuracy: 0.8016 - val_loss: 0.6180 - val_accuracy: 0.8117\n",
            "Epoch 16/100\n",
            "1875/1875 [==============================] - 6s 3ms/step - loss: 0.6234 - accuracy: 0.8105 - val_loss: 0.6403 - val_accuracy: 0.8034\n",
            "Epoch 17/100\n",
            "1875/1875 [==============================] - 6s 3ms/step - loss: 0.6079 - accuracy: 0.8150 - val_loss: 0.5849 - val_accuracy: 0.8230\n",
            "Epoch 18/100\n",
            "1875/1875 [==============================] - 6s 3ms/step - loss: 0.6002 - accuracy: 0.8167 - val_loss: 0.5784 - val_accuracy: 0.8237\n",
            "Epoch 19/100\n",
            "1875/1875 [==============================] - 6s 3ms/step - loss: 0.5793 - accuracy: 0.8246 - val_loss: 0.5347 - val_accuracy: 0.8389\n",
            "Epoch 20/100\n",
            "1875/1875 [==============================] - 6s 3ms/step - loss: 0.5729 - accuracy: 0.8262 - val_loss: 0.5312 - val_accuracy: 0.8386\n",
            "Epoch 21/100\n",
            "1875/1875 [==============================] - 6s 3ms/step - loss: 0.5507 - accuracy: 0.8329 - val_loss: 0.5276 - val_accuracy: 0.8392\n",
            "Epoch 22/100\n",
            "1875/1875 [==============================] - 6s 3ms/step - loss: 0.5443 - accuracy: 0.8341 - val_loss: 0.6082 - val_accuracy: 0.8136\n",
            "Epoch 23/100\n",
            "1875/1875 [==============================] - 6s 3ms/step - loss: 0.5276 - accuracy: 0.8408 - val_loss: 0.5050 - val_accuracy: 0.8469\n",
            "Epoch 24/100\n",
            "1875/1875 [==============================] - 6s 3ms/step - loss: 0.5161 - accuracy: 0.8429 - val_loss: 0.4744 - val_accuracy: 0.8585\n",
            "Epoch 25/100\n",
            "1875/1875 [==============================] - 6s 3ms/step - loss: 0.5020 - accuracy: 0.8462 - val_loss: 0.4806 - val_accuracy: 0.8565\n",
            "Epoch 26/100\n",
            "1875/1875 [==============================] - 6s 3ms/step - loss: 0.4956 - accuracy: 0.8481 - val_loss: 0.4992 - val_accuracy: 0.8460\n",
            "Epoch 27/100\n",
            "1875/1875 [==============================] - 6s 3ms/step - loss: 0.4873 - accuracy: 0.8529 - val_loss: 0.4506 - val_accuracy: 0.8639\n",
            "Epoch 28/100\n",
            "1875/1875 [==============================] - 6s 3ms/step - loss: 0.4850 - accuracy: 0.8527 - val_loss: 0.4959 - val_accuracy: 0.8478\n",
            "Epoch 29/100\n",
            "1875/1875 [==============================] - 6s 3ms/step - loss: 0.4632 - accuracy: 0.8582 - val_loss: 0.5313 - val_accuracy: 0.8337\n",
            "Epoch 30/100\n",
            "1875/1875 [==============================] - 6s 3ms/step - loss: 0.4594 - accuracy: 0.8588 - val_loss: 0.4283 - val_accuracy: 0.8689\n",
            "Epoch 31/100\n",
            "1875/1875 [==============================] - 6s 3ms/step - loss: 0.4492 - accuracy: 0.8631 - val_loss: 0.4394 - val_accuracy: 0.8635\n",
            "Epoch 32/100\n",
            "1875/1875 [==============================] - 6s 3ms/step - loss: 0.4442 - accuracy: 0.8646 - val_loss: 0.4155 - val_accuracy: 0.8736\n",
            "Epoch 33/100\n",
            "1875/1875 [==============================] - 6s 3ms/step - loss: 0.4379 - accuracy: 0.8629 - val_loss: 0.3907 - val_accuracy: 0.8829\n",
            "Epoch 34/100\n",
            "1875/1875 [==============================] - 6s 3ms/step - loss: 0.4253 - accuracy: 0.8693 - val_loss: 0.4210 - val_accuracy: 0.8697\n",
            "Epoch 35/100\n",
            "1875/1875 [==============================] - 6s 3ms/step - loss: 0.4261 - accuracy: 0.8698 - val_loss: 0.4169 - val_accuracy: 0.8694\n",
            "Epoch 36/100\n",
            "1875/1875 [==============================] - 6s 3ms/step - loss: 0.4200 - accuracy: 0.8680 - val_loss: 0.3885 - val_accuracy: 0.8811\n",
            "Epoch 37/100\n",
            "1875/1875 [==============================] - 6s 3ms/step - loss: 0.4066 - accuracy: 0.8759 - val_loss: 0.4050 - val_accuracy: 0.8747\n",
            "Epoch 38/100\n",
            "1875/1875 [==============================] - 6s 3ms/step - loss: 0.4002 - accuracy: 0.8775 - val_loss: 0.3911 - val_accuracy: 0.8785\n",
            "Epoch 39/100\n",
            "1875/1875 [==============================] - 6s 3ms/step - loss: 0.3926 - accuracy: 0.8800 - val_loss: 0.3850 - val_accuracy: 0.8821\n",
            "Epoch 40/100\n",
            "1875/1875 [==============================] - 6s 3ms/step - loss: 0.3887 - accuracy: 0.8793 - val_loss: 0.3675 - val_accuracy: 0.8864\n",
            "Epoch 41/100\n",
            "1875/1875 [==============================] - 6s 3ms/step - loss: 0.3869 - accuracy: 0.8822 - val_loss: 0.3997 - val_accuracy: 0.8754\n",
            "Epoch 42/100\n",
            "1875/1875 [==============================] - 6s 3ms/step - loss: 0.3809 - accuracy: 0.8842 - val_loss: 0.3440 - val_accuracy: 0.8937\n",
            "Epoch 43/100\n",
            "1875/1875 [==============================] - 6s 3ms/step - loss: 0.3719 - accuracy: 0.8855 - val_loss: 0.3620 - val_accuracy: 0.8892\n",
            "Epoch 44/100\n",
            "1875/1875 [==============================] - 6s 3ms/step - loss: 0.3616 - accuracy: 0.8883 - val_loss: 0.3396 - val_accuracy: 0.8957\n",
            "Epoch 45/100\n",
            "1875/1875 [==============================] - 6s 3ms/step - loss: 0.3519 - accuracy: 0.8922 - val_loss: 0.3356 - val_accuracy: 0.8963\n",
            "Epoch 46/100\n",
            "1875/1875 [==============================] - 6s 3ms/step - loss: 0.3540 - accuracy: 0.8919 - val_loss: 0.3614 - val_accuracy: 0.8882\n",
            "Epoch 47/100\n",
            "1875/1875 [==============================] - 6s 3ms/step - loss: 0.3508 - accuracy: 0.8908 - val_loss: 0.3290 - val_accuracy: 0.8985\n",
            "Epoch 48/100\n",
            "1875/1875 [==============================] - 6s 3ms/step - loss: 0.3419 - accuracy: 0.8936 - val_loss: 0.3568 - val_accuracy: 0.8882\n",
            "Epoch 49/100\n",
            "1875/1875 [==============================] - 6s 3ms/step - loss: 0.3390 - accuracy: 0.8946 - val_loss: 0.3037 - val_accuracy: 0.9080\n",
            "Epoch 50/100\n",
            "1875/1875 [==============================] - 6s 3ms/step - loss: 0.3309 - accuracy: 0.8973 - val_loss: 0.3127 - val_accuracy: 0.9034\n",
            "Epoch 51/100\n",
            "1875/1875 [==============================] - 6s 3ms/step - loss: 0.3198 - accuracy: 0.8999 - val_loss: 0.3212 - val_accuracy: 0.8997\n",
            "Epoch 52/100\n",
            "1875/1875 [==============================] - 6s 3ms/step - loss: 0.3148 - accuracy: 0.9010 - val_loss: 0.3421 - val_accuracy: 0.8908\n",
            "Epoch 53/100\n",
            "1875/1875 [==============================] - 6s 3ms/step - loss: 0.3200 - accuracy: 0.8995 - val_loss: 0.3364 - val_accuracy: 0.8928\n",
            "Epoch 54/100\n",
            "1875/1875 [==============================] - 6s 3ms/step - loss: 0.3119 - accuracy: 0.9027 - val_loss: 0.3080 - val_accuracy: 0.9043\n",
            "Epoch 55/100\n",
            "1875/1875 [==============================] - 6s 3ms/step - loss: 0.3103 - accuracy: 0.9042 - val_loss: 0.3069 - val_accuracy: 0.9032\n",
            "Epoch 56/100\n",
            "1875/1875 [==============================] - 6s 3ms/step - loss: 0.3033 - accuracy: 0.9047 - val_loss: 0.2932 - val_accuracy: 0.9075\n",
            "Epoch 57/100\n",
            "1875/1875 [==============================] - 6s 3ms/step - loss: 0.2965 - accuracy: 0.9064 - val_loss: 0.2838 - val_accuracy: 0.9118\n",
            "Epoch 58/100\n",
            "1875/1875 [==============================] - 6s 3ms/step - loss: 0.2958 - accuracy: 0.9077 - val_loss: 0.2737 - val_accuracy: 0.9162\n",
            "Epoch 59/100\n",
            "1875/1875 [==============================] - 6s 3ms/step - loss: 0.2931 - accuracy: 0.9093 - val_loss: 0.2787 - val_accuracy: 0.9129\n",
            "Epoch 60/100\n",
            "1875/1875 [==============================] - 7s 4ms/step - loss: 0.2867 - accuracy: 0.9110 - val_loss: 0.2751 - val_accuracy: 0.9144\n",
            "Epoch 61/100\n",
            "1875/1875 [==============================] - 7s 3ms/step - loss: 0.2791 - accuracy: 0.9138 - val_loss: 0.2514 - val_accuracy: 0.9227\n",
            "Epoch 62/100\n",
            "1875/1875 [==============================] - 6s 3ms/step - loss: 0.2651 - accuracy: 0.9172 - val_loss: 0.2535 - val_accuracy: 0.9226\n",
            "Epoch 63/100\n",
            "1875/1875 [==============================] - 6s 3ms/step - loss: 0.2749 - accuracy: 0.9162 - val_loss: 0.2413 - val_accuracy: 0.9252\n",
            "Epoch 64/100\n",
            "1875/1875 [==============================] - 6s 3ms/step - loss: 0.2717 - accuracy: 0.9145 - val_loss: 0.2642 - val_accuracy: 0.9180\n",
            "Epoch 65/100\n",
            "1875/1875 [==============================] - 6s 3ms/step - loss: 0.2622 - accuracy: 0.9175 - val_loss: 0.2510 - val_accuracy: 0.9225\n",
            "Epoch 66/100\n",
            "1875/1875 [==============================] - 6s 3ms/step - loss: 0.2631 - accuracy: 0.9158 - val_loss: 0.3144 - val_accuracy: 0.8986\n",
            "Epoch 67/100\n",
            "1875/1875 [==============================] - 6s 3ms/step - loss: 0.2562 - accuracy: 0.9201 - val_loss: 0.2340 - val_accuracy: 0.9279\n",
            "Epoch 68/100\n",
            "1875/1875 [==============================] - 6s 3ms/step - loss: 0.2474 - accuracy: 0.9230 - val_loss: 0.2513 - val_accuracy: 0.9198\n",
            "Epoch 69/100\n",
            "1875/1875 [==============================] - 7s 3ms/step - loss: 0.2440 - accuracy: 0.9239 - val_loss: 0.2293 - val_accuracy: 0.9289\n",
            "Epoch 70/100\n",
            "1875/1875 [==============================] - 6s 3ms/step - loss: 0.2493 - accuracy: 0.9223 - val_loss: 0.2184 - val_accuracy: 0.9328\n",
            "Epoch 71/100\n",
            "1875/1875 [==============================] - 6s 3ms/step - loss: 0.2369 - accuracy: 0.9258 - val_loss: 0.2150 - val_accuracy: 0.9347\n",
            "Epoch 72/100\n",
            "1875/1875 [==============================] - 6s 3ms/step - loss: 0.2329 - accuracy: 0.9278 - val_loss: 0.2242 - val_accuracy: 0.9300\n",
            "Epoch 73/100\n",
            "1875/1875 [==============================] - 6s 3ms/step - loss: 0.2346 - accuracy: 0.9272 - val_loss: 0.2182 - val_accuracy: 0.9326\n",
            "Epoch 74/100\n",
            "1875/1875 [==============================] - 6s 3ms/step - loss: 0.2336 - accuracy: 0.9260 - val_loss: 0.2208 - val_accuracy: 0.9324\n",
            "Epoch 75/100\n",
            "1875/1875 [==============================] - 6s 3ms/step - loss: 0.2247 - accuracy: 0.9297 - val_loss: 0.2180 - val_accuracy: 0.9319\n",
            "Epoch 76/100\n",
            "1875/1875 [==============================] - 6s 3ms/step - loss: 0.2271 - accuracy: 0.9290 - val_loss: 0.2221 - val_accuracy: 0.9290\n",
            "Epoch 77/100\n",
            "1875/1875 [==============================] - 6s 3ms/step - loss: 0.2124 - accuracy: 0.9339 - val_loss: 0.2221 - val_accuracy: 0.9302\n",
            "Epoch 78/100\n",
            "1875/1875 [==============================] - 6s 3ms/step - loss: 0.2150 - accuracy: 0.9322 - val_loss: 0.2271 - val_accuracy: 0.9272\n",
            "Epoch 79/100\n",
            "1875/1875 [==============================] - 6s 3ms/step - loss: 0.2081 - accuracy: 0.9364 - val_loss: 0.2118 - val_accuracy: 0.9340\n",
            "Epoch 80/100\n",
            "1875/1875 [==============================] - 7s 4ms/step - loss: 0.2046 - accuracy: 0.9352 - val_loss: 0.1936 - val_accuracy: 0.9412\n",
            "Epoch 81/100\n",
            "1875/1875 [==============================] - 6s 3ms/step - loss: 0.2047 - accuracy: 0.9357 - val_loss: 0.2085 - val_accuracy: 0.9356\n",
            "Epoch 82/100\n",
            "1875/1875 [==============================] - 6s 3ms/step - loss: 0.2013 - accuracy: 0.9356 - val_loss: 0.1936 - val_accuracy: 0.9404\n",
            "Epoch 83/100\n",
            "1875/1875 [==============================] - 6s 3ms/step - loss: 0.1939 - accuracy: 0.9405 - val_loss: 0.1757 - val_accuracy: 0.9472\n",
            "Epoch 84/100\n",
            "1875/1875 [==============================] - 6s 3ms/step - loss: 0.1938 - accuracy: 0.9403 - val_loss: 0.1986 - val_accuracy: 0.9374\n",
            "Epoch 85/100\n",
            "1875/1875 [==============================] - 6s 3ms/step - loss: 0.1923 - accuracy: 0.9383 - val_loss: 0.1800 - val_accuracy: 0.9449\n",
            "Epoch 86/100\n",
            "1875/1875 [==============================] - 6s 3ms/step - loss: 0.1871 - accuracy: 0.9405 - val_loss: 0.1671 - val_accuracy: 0.9499\n",
            "Epoch 87/100\n",
            "1875/1875 [==============================] - 6s 3ms/step - loss: 0.1867 - accuracy: 0.9419 - val_loss: 0.1612 - val_accuracy: 0.9515\n",
            "Epoch 88/100\n",
            "1875/1875 [==============================] - 6s 3ms/step - loss: 0.1820 - accuracy: 0.9423 - val_loss: 0.1656 - val_accuracy: 0.9494\n",
            "Epoch 89/100\n",
            "1875/1875 [==============================] - 6s 3ms/step - loss: 0.1811 - accuracy: 0.9428 - val_loss: 0.1568 - val_accuracy: 0.9523\n",
            "Epoch 90/100\n",
            "1875/1875 [==============================] - 6s 3ms/step - loss: 0.1762 - accuracy: 0.9458 - val_loss: 0.1698 - val_accuracy: 0.9475\n",
            "Epoch 91/100\n",
            "1875/1875 [==============================] - 6s 3ms/step - loss: 0.1742 - accuracy: 0.9455 - val_loss: 0.1521 - val_accuracy: 0.9524\n",
            "Epoch 92/100\n",
            "1875/1875 [==============================] - 6s 3ms/step - loss: 0.1744 - accuracy: 0.9450 - val_loss: 0.1587 - val_accuracy: 0.9511\n",
            "Epoch 93/100\n",
            "1875/1875 [==============================] - 6s 3ms/step - loss: 0.1750 - accuracy: 0.9445 - val_loss: 0.1844 - val_accuracy: 0.9400\n",
            "Epoch 94/100\n",
            "1875/1875 [==============================] - 6s 3ms/step - loss: 0.1637 - accuracy: 0.9483 - val_loss: 0.1421 - val_accuracy: 0.9580\n",
            "Epoch 95/100\n",
            "1875/1875 [==============================] - 6s 3ms/step - loss: 0.1605 - accuracy: 0.9505 - val_loss: 0.1689 - val_accuracy: 0.9469\n",
            "Epoch 96/100\n",
            "1875/1875 [==============================] - 6s 3ms/step - loss: 0.1644 - accuracy: 0.9484 - val_loss: 0.1518 - val_accuracy: 0.9521\n",
            "Epoch 97/100\n",
            "1875/1875 [==============================] - 6s 3ms/step - loss: 0.1527 - accuracy: 0.9516 - val_loss: 0.1490 - val_accuracy: 0.9527\n",
            "Epoch 98/100\n",
            "1875/1875 [==============================] - 6s 3ms/step - loss: 0.1557 - accuracy: 0.9512 - val_loss: 0.1494 - val_accuracy: 0.9536\n",
            "Epoch 99/100\n",
            "1875/1875 [==============================] - 6s 3ms/step - loss: 0.1521 - accuracy: 0.9526 - val_loss: 0.1343 - val_accuracy: 0.9590\n",
            "Epoch 100/100\n",
            "1875/1875 [==============================] - 6s 3ms/step - loss: 0.1490 - accuracy: 0.9530 - val_loss: 0.1430 - val_accuracy: 0.9557\n"
          ],
          "name": "stdout"
        },
        {
          "output_type": "execute_result",
          "data": {
            "text/plain": [
              "<tensorflow.python.keras.callbacks.History at 0x7f670c21fe90>"
            ]
          },
          "metadata": {
            "tags": []
          },
          "execution_count": 22
        }
      ]
    },
    {
      "cell_type": "markdown",
      "metadata": {
        "id": "sf5FuCzEZait"
      },
      "source": [
        "*Loss reduced to 0.14 and accuracy increase to 95%*"
      ]
    },
    {
      "cell_type": "markdown",
      "metadata": {
        "id": "G1vU0auaZnK5"
      },
      "source": [
        "**Model 4:**   \r\n",
        "Increase number of layers to 4 with 256 neurons each.\r\n"
      ]
    },
    {
      "cell_type": "code",
      "metadata": {
        "colab": {
          "base_uri": "https://localhost:8080/"
        },
        "id": "CZSk7kAC1Iuh",
        "outputId": "e30675b7-c14d-4109-fbd5-dc72dcfca0e6"
      },
      "source": [
        "model3 = Sequential()\r\n",
        "model3.add(Flatten())\r\n",
        "model3.add(Dense(256, activation=\"relu\"))\r\n",
        "model3.add(Dense(256, activation=\"relu\"))\r\n",
        "model3.add(Dense(256, activation=\"relu\"))\r\n",
        "model3.add(Dense(256, activation=\"relu\"))\r\n",
        "model3.add(Dense(10, activation=\"softmax\"))\r\n",
        "\r\n",
        "# Compile the model\r\n",
        "model3.compile(loss=\"categorical_crossentropy\", metrics=[\"accuracy\"], optimizer=\"sgd\")\r\n",
        "\r\n",
        "# Fit the model\r\n",
        "model_3 = model3.fit(x=x_train, y=y_train, batch_size=32, epochs=100, validation_data=(x_val, y_val))"
      ],
      "execution_count": null,
      "outputs": [
        {
          "output_type": "stream",
          "text": [
            "Epoch 1/100\n",
            "1875/1875 [==============================] - 7s 4ms/step - loss: 2.2816 - accuracy: 0.1461 - val_loss: 2.0468 - val_accuracy: 0.3100\n",
            "Epoch 2/100\n",
            "1875/1875 [==============================] - 7s 4ms/step - loss: 1.8754 - accuracy: 0.3567 - val_loss: 1.4641 - val_accuracy: 0.5195\n",
            "Epoch 3/100\n",
            "1875/1875 [==============================] - 6s 3ms/step - loss: 1.3897 - accuracy: 0.5476 - val_loss: 1.1610 - val_accuracy: 0.6291\n",
            "Epoch 4/100\n",
            "1875/1875 [==============================] - 7s 4ms/step - loss: 1.1709 - accuracy: 0.6272 - val_loss: 1.1356 - val_accuracy: 0.6322\n",
            "Epoch 5/100\n",
            "1875/1875 [==============================] - 6s 3ms/step - loss: 1.0404 - accuracy: 0.6749 - val_loss: 0.9384 - val_accuracy: 0.7107\n",
            "Epoch 6/100\n",
            "1875/1875 [==============================] - 7s 4ms/step - loss: 0.9561 - accuracy: 0.7013 - val_loss: 0.9687 - val_accuracy: 0.6890\n",
            "Epoch 7/100\n",
            "1875/1875 [==============================] - 7s 4ms/step - loss: 0.8806 - accuracy: 0.7258 - val_loss: 0.8621 - val_accuracy: 0.7325\n",
            "Epoch 8/100\n",
            "1875/1875 [==============================] - 7s 4ms/step - loss: 0.8285 - accuracy: 0.7434 - val_loss: 0.7430 - val_accuracy: 0.7723\n",
            "Epoch 9/100\n",
            "1875/1875 [==============================] - 7s 4ms/step - loss: 0.7831 - accuracy: 0.7566 - val_loss: 0.7176 - val_accuracy: 0.7780\n",
            "Epoch 10/100\n",
            "1875/1875 [==============================] - 7s 4ms/step - loss: 0.7471 - accuracy: 0.7705 - val_loss: 0.7496 - val_accuracy: 0.7711\n",
            "Epoch 11/100\n",
            "1875/1875 [==============================] - 7s 3ms/step - loss: 0.7215 - accuracy: 0.7747 - val_loss: 0.6791 - val_accuracy: 0.7916\n",
            "Epoch 12/100\n",
            "1875/1875 [==============================] - 7s 4ms/step - loss: 0.6852 - accuracy: 0.7876 - val_loss: 0.6794 - val_accuracy: 0.7915\n",
            "Epoch 13/100\n",
            "1875/1875 [==============================] - 7s 3ms/step - loss: 0.6566 - accuracy: 0.7995 - val_loss: 0.6052 - val_accuracy: 0.8147\n",
            "Epoch 14/100\n",
            "1875/1875 [==============================] - 7s 4ms/step - loss: 0.6324 - accuracy: 0.8070 - val_loss: 0.6651 - val_accuracy: 0.7965\n",
            "Epoch 15/100\n",
            "1875/1875 [==============================] - 7s 4ms/step - loss: 0.6078 - accuracy: 0.8115 - val_loss: 0.5779 - val_accuracy: 0.8197\n",
            "Epoch 16/100\n",
            "1875/1875 [==============================] - 7s 4ms/step - loss: 0.6009 - accuracy: 0.8154 - val_loss: 0.6284 - val_accuracy: 0.8042\n",
            "Epoch 17/100\n",
            "1875/1875 [==============================] - 7s 4ms/step - loss: 0.5830 - accuracy: 0.8229 - val_loss: 0.5355 - val_accuracy: 0.8345\n",
            "Epoch 18/100\n",
            "1875/1875 [==============================] - 7s 4ms/step - loss: 0.5562 - accuracy: 0.8265 - val_loss: 0.5284 - val_accuracy: 0.8384\n",
            "Epoch 19/100\n",
            "1875/1875 [==============================] - 6s 3ms/step - loss: 0.5462 - accuracy: 0.8307 - val_loss: 0.5225 - val_accuracy: 0.8394\n",
            "Epoch 20/100\n",
            "1875/1875 [==============================] - 6s 3ms/step - loss: 0.5240 - accuracy: 0.8379 - val_loss: 0.5601 - val_accuracy: 0.8260\n",
            "Epoch 21/100\n",
            "1875/1875 [==============================] - 7s 3ms/step - loss: 0.5186 - accuracy: 0.8399 - val_loss: 0.4601 - val_accuracy: 0.8589\n",
            "Epoch 22/100\n",
            "1875/1875 [==============================] - 7s 4ms/step - loss: 0.5084 - accuracy: 0.8420 - val_loss: 0.4582 - val_accuracy: 0.8598\n",
            "Epoch 23/100\n",
            "1875/1875 [==============================] - 7s 4ms/step - loss: 0.4901 - accuracy: 0.8511 - val_loss: 0.4621 - val_accuracy: 0.8590\n",
            "Epoch 24/100\n",
            "1875/1875 [==============================] - 7s 4ms/step - loss: 0.4799 - accuracy: 0.8512 - val_loss: 0.4557 - val_accuracy: 0.8585\n",
            "Epoch 25/100\n",
            "1875/1875 [==============================] - 7s 3ms/step - loss: 0.4664 - accuracy: 0.8560 - val_loss: 0.4237 - val_accuracy: 0.8693\n",
            "Epoch 26/100\n",
            "1875/1875 [==============================] - 6s 3ms/step - loss: 0.4613 - accuracy: 0.8552 - val_loss: 0.4548 - val_accuracy: 0.8574\n",
            "Epoch 27/100\n",
            "1875/1875 [==============================] - 6s 3ms/step - loss: 0.4503 - accuracy: 0.8604 - val_loss: 0.4510 - val_accuracy: 0.8612\n",
            "Epoch 28/100\n",
            "1875/1875 [==============================] - 7s 4ms/step - loss: 0.4356 - accuracy: 0.8647 - val_loss: 0.4144 - val_accuracy: 0.8717\n",
            "Epoch 29/100\n",
            "1875/1875 [==============================] - 7s 4ms/step - loss: 0.4287 - accuracy: 0.8649 - val_loss: 0.4185 - val_accuracy: 0.8692\n",
            "Epoch 30/100\n",
            "1875/1875 [==============================] - 7s 4ms/step - loss: 0.4181 - accuracy: 0.8683 - val_loss: 0.4633 - val_accuracy: 0.8494\n",
            "Epoch 31/100\n",
            "1875/1875 [==============================] - 7s 4ms/step - loss: 0.4080 - accuracy: 0.8701 - val_loss: 0.4191 - val_accuracy: 0.8679\n",
            "Epoch 32/100\n",
            "1875/1875 [==============================] - 7s 3ms/step - loss: 0.4016 - accuracy: 0.8747 - val_loss: 0.3960 - val_accuracy: 0.8756\n",
            "Epoch 33/100\n",
            "1875/1875 [==============================] - 6s 3ms/step - loss: 0.3938 - accuracy: 0.8762 - val_loss: 0.3802 - val_accuracy: 0.8828\n",
            "Epoch 34/100\n",
            "1875/1875 [==============================] - 6s 3ms/step - loss: 0.3850 - accuracy: 0.8799 - val_loss: 0.3571 - val_accuracy: 0.8895\n",
            "Epoch 35/100\n",
            "1875/1875 [==============================] - 7s 3ms/step - loss: 0.3772 - accuracy: 0.8794 - val_loss: 0.4296 - val_accuracy: 0.8611\n",
            "Epoch 36/100\n",
            "1875/1875 [==============================] - 7s 4ms/step - loss: 0.3705 - accuracy: 0.8844 - val_loss: 0.3765 - val_accuracy: 0.8810\n",
            "Epoch 37/100\n",
            "1875/1875 [==============================] - 6s 3ms/step - loss: 0.3657 - accuracy: 0.8884 - val_loss: 0.3286 - val_accuracy: 0.8982\n",
            "Epoch 38/100\n",
            "1875/1875 [==============================] - 7s 3ms/step - loss: 0.3553 - accuracy: 0.8892 - val_loss: 0.3298 - val_accuracy: 0.8972\n",
            "Epoch 39/100\n",
            "1875/1875 [==============================] - 7s 4ms/step - loss: 0.3432 - accuracy: 0.8942 - val_loss: 0.3192 - val_accuracy: 0.9000\n",
            "Epoch 40/100\n",
            "1875/1875 [==============================] - 7s 4ms/step - loss: 0.3418 - accuracy: 0.8923 - val_loss: 0.3305 - val_accuracy: 0.8968\n",
            "Epoch 41/100\n",
            "1875/1875 [==============================] - 7s 4ms/step - loss: 0.3321 - accuracy: 0.8952 - val_loss: 0.3496 - val_accuracy: 0.8888\n",
            "Epoch 42/100\n",
            "1875/1875 [==============================] - 7s 4ms/step - loss: 0.3244 - accuracy: 0.8975 - val_loss: 0.3369 - val_accuracy: 0.8935\n",
            "Epoch 43/100\n",
            "1875/1875 [==============================] - 7s 4ms/step - loss: 0.3276 - accuracy: 0.8947 - val_loss: 0.2746 - val_accuracy: 0.9154\n",
            "Epoch 44/100\n",
            "1875/1875 [==============================] - 7s 4ms/step - loss: 0.3152 - accuracy: 0.9007 - val_loss: 0.2717 - val_accuracy: 0.9167\n",
            "Epoch 45/100\n",
            "1875/1875 [==============================] - 7s 4ms/step - loss: 0.3041 - accuracy: 0.9045 - val_loss: 0.2606 - val_accuracy: 0.9199\n",
            "Epoch 46/100\n",
            "1875/1875 [==============================] - 7s 4ms/step - loss: 0.3019 - accuracy: 0.9033 - val_loss: 0.2695 - val_accuracy: 0.9163\n",
            "Epoch 47/100\n",
            "1875/1875 [==============================] - 7s 4ms/step - loss: 0.3012 - accuracy: 0.9035 - val_loss: 0.2939 - val_accuracy: 0.9078\n",
            "Epoch 48/100\n",
            "1875/1875 [==============================] - 7s 4ms/step - loss: 0.2964 - accuracy: 0.9056 - val_loss: 0.2919 - val_accuracy: 0.9084\n",
            "Epoch 49/100\n",
            "1875/1875 [==============================] - 7s 4ms/step - loss: 0.2867 - accuracy: 0.9090 - val_loss: 0.2846 - val_accuracy: 0.9078\n",
            "Epoch 50/100\n",
            "1875/1875 [==============================] - 6s 3ms/step - loss: 0.2755 - accuracy: 0.9106 - val_loss: 0.2562 - val_accuracy: 0.9196\n",
            "Epoch 51/100\n",
            "1875/1875 [==============================] - 7s 4ms/step - loss: 0.2772 - accuracy: 0.9112 - val_loss: 0.2701 - val_accuracy: 0.9152\n",
            "Epoch 52/100\n",
            "1875/1875 [==============================] - 6s 3ms/step - loss: 0.2672 - accuracy: 0.9157 - val_loss: 0.2406 - val_accuracy: 0.9245\n",
            "Epoch 53/100\n",
            "1875/1875 [==============================] - 6s 3ms/step - loss: 0.2610 - accuracy: 0.9168 - val_loss: 0.2346 - val_accuracy: 0.9259\n",
            "Epoch 54/100\n",
            "1875/1875 [==============================] - 7s 4ms/step - loss: 0.2575 - accuracy: 0.9172 - val_loss: 0.2195 - val_accuracy: 0.9329\n",
            "Epoch 55/100\n",
            "1875/1875 [==============================] - 7s 4ms/step - loss: 0.2506 - accuracy: 0.9210 - val_loss: 0.2348 - val_accuracy: 0.9254\n",
            "Epoch 56/100\n",
            "1875/1875 [==============================] - 7s 4ms/step - loss: 0.2452 - accuracy: 0.9212 - val_loss: 0.2474 - val_accuracy: 0.9211\n",
            "Epoch 57/100\n",
            "1875/1875 [==============================] - 7s 4ms/step - loss: 0.2374 - accuracy: 0.9251 - val_loss: 0.2356 - val_accuracy: 0.9245\n",
            "Epoch 58/100\n",
            "1875/1875 [==============================] - 7s 4ms/step - loss: 0.2366 - accuracy: 0.9245 - val_loss: 0.2234 - val_accuracy: 0.9301\n",
            "Epoch 59/100\n",
            "1875/1875 [==============================] - 7s 4ms/step - loss: 0.2313 - accuracy: 0.9250 - val_loss: 0.1988 - val_accuracy: 0.9372\n",
            "Epoch 60/100\n",
            "1875/1875 [==============================] - 7s 3ms/step - loss: 0.2255 - accuracy: 0.9271 - val_loss: 0.2251 - val_accuracy: 0.9280\n",
            "Epoch 61/100\n",
            "1875/1875 [==============================] - 6s 3ms/step - loss: 0.2274 - accuracy: 0.9267 - val_loss: 0.1940 - val_accuracy: 0.9398\n",
            "Epoch 62/100\n",
            "1875/1875 [==============================] - 6s 3ms/step - loss: 0.2118 - accuracy: 0.9338 - val_loss: 0.2468 - val_accuracy: 0.9195\n",
            "Epoch 63/100\n",
            "1875/1875 [==============================] - 7s 4ms/step - loss: 0.2157 - accuracy: 0.9293 - val_loss: 0.2278 - val_accuracy: 0.9247\n",
            "Epoch 64/100\n",
            "1875/1875 [==============================] - 6s 3ms/step - loss: 0.2054 - accuracy: 0.9336 - val_loss: 0.2106 - val_accuracy: 0.9315\n",
            "Epoch 65/100\n",
            "1875/1875 [==============================] - 6s 3ms/step - loss: 0.2001 - accuracy: 0.9360 - val_loss: 0.2036 - val_accuracy: 0.9339\n",
            "Epoch 66/100\n",
            "1875/1875 [==============================] - 7s 4ms/step - loss: 0.1928 - accuracy: 0.9382 - val_loss: 0.2176 - val_accuracy: 0.9293\n",
            "Epoch 67/100\n",
            "1875/1875 [==============================] - 7s 4ms/step - loss: 0.1982 - accuracy: 0.9362 - val_loss: 0.1758 - val_accuracy: 0.9442\n",
            "Epoch 68/100\n",
            "1875/1875 [==============================] - 7s 4ms/step - loss: 0.1908 - accuracy: 0.9389 - val_loss: 0.2885 - val_accuracy: 0.9036\n",
            "Epoch 69/100\n",
            "1875/1875 [==============================] - 6s 3ms/step - loss: 0.1853 - accuracy: 0.9415 - val_loss: 0.1733 - val_accuracy: 0.9446\n",
            "Epoch 70/100\n",
            "1875/1875 [==============================] - 7s 4ms/step - loss: 0.1811 - accuracy: 0.9408 - val_loss: 0.1822 - val_accuracy: 0.9412\n",
            "Epoch 71/100\n",
            "1875/1875 [==============================] - 6s 3ms/step - loss: 0.1799 - accuracy: 0.9414 - val_loss: 0.2015 - val_accuracy: 0.9329\n",
            "Epoch 72/100\n",
            "1875/1875 [==============================] - 7s 4ms/step - loss: 0.1743 - accuracy: 0.9459 - val_loss: 0.1662 - val_accuracy: 0.9467\n",
            "Epoch 73/100\n",
            "1875/1875 [==============================] - 6s 3ms/step - loss: 0.1670 - accuracy: 0.9460 - val_loss: 0.1619 - val_accuracy: 0.9480\n",
            "Epoch 74/100\n",
            "1875/1875 [==============================] - 6s 3ms/step - loss: 0.1657 - accuracy: 0.9468 - val_loss: 0.1502 - val_accuracy: 0.9522\n",
            "Epoch 75/100\n",
            "1875/1875 [==============================] - 7s 3ms/step - loss: 0.1660 - accuracy: 0.9462 - val_loss: 0.1623 - val_accuracy: 0.9460\n",
            "Epoch 76/100\n",
            "1875/1875 [==============================] - 7s 4ms/step - loss: 0.1563 - accuracy: 0.9503 - val_loss: 0.1270 - val_accuracy: 0.9610\n",
            "Epoch 77/100\n",
            "1875/1875 [==============================] - 6s 3ms/step - loss: 0.1517 - accuracy: 0.9517 - val_loss: 0.1678 - val_accuracy: 0.9444\n",
            "Epoch 78/100\n",
            "1875/1875 [==============================] - 7s 3ms/step - loss: 0.1510 - accuracy: 0.9513 - val_loss: 0.1880 - val_accuracy: 0.9375\n",
            "Epoch 79/100\n",
            "1875/1875 [==============================] - 7s 3ms/step - loss: 0.1548 - accuracy: 0.9494 - val_loss: 0.1465 - val_accuracy: 0.9533\n",
            "Epoch 80/100\n",
            "1875/1875 [==============================] - 6s 3ms/step - loss: 0.1391 - accuracy: 0.9561 - val_loss: 0.1191 - val_accuracy: 0.9620\n",
            "Epoch 81/100\n",
            "1875/1875 [==============================] - 7s 4ms/step - loss: 0.1410 - accuracy: 0.9553 - val_loss: 0.1427 - val_accuracy: 0.9523\n",
            "Epoch 82/100\n",
            "1875/1875 [==============================] - 7s 4ms/step - loss: 0.1373 - accuracy: 0.9566 - val_loss: 0.1322 - val_accuracy: 0.9580\n",
            "Epoch 83/100\n",
            "1875/1875 [==============================] - 7s 4ms/step - loss: 0.1252 - accuracy: 0.9598 - val_loss: 0.1595 - val_accuracy: 0.9459\n",
            "Epoch 84/100\n",
            "1875/1875 [==============================] - 6s 3ms/step - loss: 0.1305 - accuracy: 0.9574 - val_loss: 0.1232 - val_accuracy: 0.9610\n",
            "Epoch 85/100\n",
            "1875/1875 [==============================] - 6s 3ms/step - loss: 0.1280 - accuracy: 0.9579 - val_loss: 0.1848 - val_accuracy: 0.9370\n",
            "Epoch 86/100\n",
            "1875/1875 [==============================] - 7s 4ms/step - loss: 0.1232 - accuracy: 0.9605 - val_loss: 0.0974 - val_accuracy: 0.9710\n",
            "Epoch 87/100\n",
            "1875/1875 [==============================] - 7s 4ms/step - loss: 0.1235 - accuracy: 0.9599 - val_loss: 0.1164 - val_accuracy: 0.9620\n",
            "Epoch 88/100\n",
            "1875/1875 [==============================] - 7s 4ms/step - loss: 0.1200 - accuracy: 0.9605 - val_loss: 0.1393 - val_accuracy: 0.9532\n",
            "Epoch 89/100\n",
            "1875/1875 [==============================] - 7s 4ms/step - loss: 0.1194 - accuracy: 0.9609 - val_loss: 0.0992 - val_accuracy: 0.9693\n",
            "Epoch 90/100\n",
            "1875/1875 [==============================] - 7s 4ms/step - loss: 0.1130 - accuracy: 0.9630 - val_loss: 0.0974 - val_accuracy: 0.9696\n",
            "Epoch 91/100\n",
            "1875/1875 [==============================] - 6s 3ms/step - loss: 0.1139 - accuracy: 0.9631 - val_loss: 0.0884 - val_accuracy: 0.9740\n",
            "Epoch 92/100\n",
            "1875/1875 [==============================] - 7s 4ms/step - loss: 0.1080 - accuracy: 0.9644 - val_loss: 0.1229 - val_accuracy: 0.9591\n",
            "Epoch 93/100\n",
            "1875/1875 [==============================] - 7s 4ms/step - loss: 0.1009 - accuracy: 0.9682 - val_loss: 0.1193 - val_accuracy: 0.9590\n",
            "Epoch 94/100\n",
            "1875/1875 [==============================] - 7s 4ms/step - loss: 0.1031 - accuracy: 0.9659 - val_loss: 0.0904 - val_accuracy: 0.9712\n",
            "Epoch 95/100\n",
            "1875/1875 [==============================] - 6s 3ms/step - loss: 0.0996 - accuracy: 0.9675 - val_loss: 0.0866 - val_accuracy: 0.9727\n",
            "Epoch 96/100\n",
            "1875/1875 [==============================] - 7s 3ms/step - loss: 0.0996 - accuracy: 0.9672 - val_loss: 0.0738 - val_accuracy: 0.9775\n",
            "Epoch 97/100\n",
            "1875/1875 [==============================] - 7s 4ms/step - loss: 0.0974 - accuracy: 0.9692 - val_loss: 0.0772 - val_accuracy: 0.9765\n",
            "Epoch 98/100\n",
            "1875/1875 [==============================] - 7s 4ms/step - loss: 0.0962 - accuracy: 0.9685 - val_loss: 0.0904 - val_accuracy: 0.9705\n",
            "Epoch 99/100\n",
            "1875/1875 [==============================] - 7s 4ms/step - loss: 0.0927 - accuracy: 0.9699 - val_loss: 0.0719 - val_accuracy: 0.9781\n",
            "Epoch 100/100\n",
            "1875/1875 [==============================] - 7s 4ms/step - loss: 0.0918 - accuracy: 0.9701 - val_loss: 0.0821 - val_accuracy: 0.9738\n"
          ],
          "name": "stdout"
        }
      ]
    },
    {
      "cell_type": "markdown",
      "metadata": {
        "id": "S5vrpGjjcPnD"
      },
      "source": [
        "Increasing complexity of model just by adding hidden layers and increasing neurons in it yields good accuracy of 97% on validation set. One can try different optimizers like Adam, SGD, RMSprop etc with different values for learning rates and kernel optimizers."
      ]
    },
    {
      "cell_type": "code",
      "metadata": {
        "colab": {
          "base_uri": "https://localhost:8080/"
        },
        "id": "JDsTvbxUcBIK",
        "outputId": "58f05563-c171-4020-9d92-1f09324e4ee4"
      },
      "source": [
        "model3.summary()\r\n",
        "#!mkdir -p saved_model\r\n",
        "#model.save('saved_model/my_model')"
      ],
      "execution_count": null,
      "outputs": [
        {
          "output_type": "stream",
          "text": [
            "Model: \"sequential_4\"\n",
            "_________________________________________________________________\n",
            "Layer (type)                 Output Shape              Param #   \n",
            "=================================================================\n",
            "flatten_4 (Flatten)          (None, 1024)              0         \n",
            "_________________________________________________________________\n",
            "dense_15 (Dense)             (None, 256)               262400    \n",
            "_________________________________________________________________\n",
            "dense_16 (Dense)             (None, 256)               65792     \n",
            "_________________________________________________________________\n",
            "dense_17 (Dense)             (None, 256)               65792     \n",
            "_________________________________________________________________\n",
            "dense_18 (Dense)             (None, 256)               65792     \n",
            "_________________________________________________________________\n",
            "dense_19 (Dense)             (None, 10)                2570      \n",
            "=================================================================\n",
            "Total params: 462,346\n",
            "Trainable params: 462,346\n",
            "Non-trainable params: 0\n",
            "_________________________________________________________________\n"
          ],
          "name": "stdout"
        }
      ]
    },
    {
      "cell_type": "markdown",
      "metadata": {
        "id": "Ek5ein6ue4VF"
      },
      "source": [
        "*Model summary gives details of the input size, output size, hidden layers and neurons in each layer, total trainable and untrainable parameters*   \r\n",
        "*Each image of size 32.32 is flattened to 1024 long vector.*    \r\n",
        "*Four hidden layers with 256 neurons each*   \r\n",
        "*Trainable parameters is (1024)(256)+256 for first hidden layer. Similarily for others*   \r\n",
        "*Output size is 10 i.e. integers from 0 to 9*"
      ]
    },
    {
      "cell_type": "markdown",
      "metadata": {
        "id": "WXA4EkHShffU"
      },
      "source": [
        "**Plot loss vs epochs**"
      ]
    },
    {
      "cell_type": "code",
      "metadata": {
        "colab": {
          "base_uri": "https://localhost:8080/",
          "height": 607
        },
        "id": "hz03JlTKcMQM",
        "outputId": "544f286d-1e59-4e84-8d44-48d2f1e39c73"
      },
      "source": [
        "def plot_loss(hist):\r\n",
        "  # plot the loss\r\n",
        "  plt.title('Loss History')\r\n",
        "  plt.plot(hist.history['loss'])\r\n",
        "  plt.ylabel('loss')\r\n",
        "  plt.xlabel('epoch')\r\n",
        "  plt.show()\r\n",
        "\r\n",
        "print(type(model_3))\r\n",
        "plot_loss(model_3) \r\n",
        "\r\n",
        "def plot_loss(hist):\r\n",
        "  # plot the val_loss\r\n",
        "  plt.title('Validation loss History')\r\n",
        "  plt.plot(hist.history['val_loss'])\r\n",
        "  plt.ylabel('val_loss')\r\n",
        "  plt.xlabel('epoch')\r\n",
        "  plt.show()\r\n",
        "\r\n",
        "print(type(model_3))\r\n",
        "plot_loss(model_3) "
      ],
      "execution_count": null,
      "outputs": [
        {
          "output_type": "stream",
          "text": [
            "<class 'tensorflow.python.keras.callbacks.History'>\n"
          ],
          "name": "stdout"
        },
        {
          "output_type": "display_data",
          "data": {
            "image/png": "[encoded data removed]",
            "text/plain": [
              "<Figure size 432x288 with 1 Axes>"
            ]
          },
          "metadata": {
            "tags": [],
            "needs_background": "light"
          }
        },
        {
          "output_type": "stream",
          "text": [
            "<class 'tensorflow.python.keras.callbacks.History'>\n"
          ],
          "name": "stdout"
        },
        {
          "output_type": "display_data",
          "data": {
            "image/png": "[encoded data removed]",
            "text/plain": [
              "<Figure size 432x288 with 1 Axes>"
            ]
          },
          "metadata": {
            "tags": [],
            "needs_background": "light"
          }
        }
      ]
    },
    {
      "cell_type": "markdown",
      "metadata": {
        "id": "EiIPJx0lhwXK"
      },
      "source": [
        "Training as well as validation loss continues to reduce till 100th epoch though reduction starts flatten around 80th epoch "
      ]
    },
    {
      "cell_type": "markdown",
      "metadata": {
        "id": "LtgtvvQpkRPF"
      },
      "source": [
        "**Plot Accuracy vs Epochs**"
      ]
    },
    {
      "cell_type": "code",
      "metadata": {
        "colab": {
          "base_uri": "https://localhost:8080/",
          "height": 607
        },
        "id": "EwDoGou0g_bH",
        "outputId": "51eb1a4e-c6f9-44bf-d46d-3af166adbf76"
      },
      "source": [
        "def plot_loss(hist):\r\n",
        "  # plot the accuracy\r\n",
        "  plt.title('Accuracy history')\r\n",
        "  plt.plot(hist.history['accuracy'])\r\n",
        "  plt.ylabel('Accuracy')\r\n",
        "  plt.xlabel('Epochs')\r\n",
        "  plt.show()\r\n",
        "\r\n",
        "print(type(model_3))\r\n",
        "plot_loss(model_3)\r\n",
        "\r\n",
        "def plot_loss(hist):\r\n",
        "  # plot the val_accuracy\r\n",
        "  plt.title('Validation accuracy history')\r\n",
        "  plt.plot(hist.history['val_accuracy'])\r\n",
        "  plt.ylabel('Validation accuracy')\r\n",
        "  plt.xlabel('Epochs')\r\n",
        "  plt.show()\r\n",
        "\r\n",
        "print(type(model_3))\r\n",
        "plot_loss(model_3) "
      ],
      "execution_count": null,
      "outputs": [
        {
          "output_type": "stream",
          "text": [
            "<class 'tensorflow.python.keras.callbacks.History'>\n"
          ],
          "name": "stdout"
        },
        {
          "output_type": "display_data",
          "data": {
            "image/png": "[encoded data removed]",
            "text/plain": [
              "<Figure size 432x288 with 1 Axes>"
            ]
          },
          "metadata": {
            "tags": [],
            "needs_background": "light"
          }
        },
        {
          "output_type": "stream",
          "text": [
            "<class 'tensorflow.python.keras.callbacks.History'>\n"
          ],
          "name": "stdout"
        },
        {
          "output_type": "display_data",
          "data": {
            "image/png": "[encoded data removed]",
            "text/plain": [
              "<Figure size 432x288 with 1 Axes>"
            ]
          },
          "metadata": {
            "tags": [],
            "needs_background": "light"
          }
        }
      ]
    },
    {
      "cell_type": "markdown",
      "metadata": {
        "id": "Oa7I7R53kbbN"
      },
      "source": [
        "Training as well as validation accuracy continues to increase till 100th epoch though increment starts flatten around 80th epoch."
      ]
    },
    {
      "cell_type": "markdown",
      "metadata": {
        "id": "ll8Oky7JjyLk"
      },
      "source": [
        "#Build a model using Grid SeachCV to obtain best parameters to tune the model "
      ]
    },
    {
      "cell_type": "code",
      "metadata": {
        "id": "VzsVa84Vspmh"
      },
      "source": [
        "def create_model(lr, Lambda):\r\n",
        "\r\n",
        "    ## hyperparameters\r\n",
        "    learning_rate = lr\r\n",
        "    hidden_nodes = 256\r\n",
        "    output_nodes = 10\r\n",
        "        \r\n",
        "    model = Sequential()\r\n",
        "    model.add(Flatten())\r\n",
        "    model.add(Dense(hidden_nodes, activation='relu'))\r\n",
        "    model.add(Dense(hidden_nodes, activation='relu'))\r\n",
        "    model.add(Dense(hidden_nodes, activation='relu'))\r\n",
        "    model.add(Dense(hidden_nodes, activation='relu'))\r\n",
        "    model.add(Dense(output_nodes, kernel_regularizer=regularizers.l2(Lambda)))\r\n",
        "    \r\n",
        "    sgd = optimizers.SGD(lr=lr, decay=1e-7, momentum=0.9)\r\n",
        "    # Compile model\r\n",
        "    model.compile(loss=\"categorical_crossentropy\", metrics=[\"accuracy\"],optimizer=\"sgd\")\r\n",
        "    return model"
      ],
      "execution_count": null,
      "outputs": []
    },
    {
      "cell_type": "code",
      "metadata": {
        "id": "tmAXGEiMvW6O"
      },
      "source": [
        "model = KerasClassifier(build_fn=create_model, epochs=30, batch_size=10)"
      ],
      "execution_count": null,
      "outputs": []
    },
    {
      "cell_type": "code",
      "metadata": {
        "id": "8G0cw5VClgth"
      },
      "source": [
        "# define the grid search parameters\r\n",
        "from sklearn.model_selection import GridSearchCV\r\n",
        "from tensorflow.keras import regularizers, optimizers\r\n",
        "lr = [1e-5,1e-4,1e-3,1e-2,1e-1]\r\n",
        "Lambda = [1e-6,1e-5,1e-4,1e-3,1e-2]\r\n",
        "\r\n",
        "param_grid = dict(lr=lr,Lambda=Lambda)\r\n",
        "grid = GridSearchCV(estimator=model, param_grid=param_grid, cv=2)\r\n",
        "grid_result = grid.fit(x_train, y_train)\r\n",
        "# summarize results\r\n",
        "print(\"Best: %f using %s\" % (grid_result.best_score_, grid_result.best_params_))"
      ],
      "execution_count": null,
      "outputs": []
    },
    {
      "cell_type": "markdown",
      "metadata": {
        "id": "Eao9c7eRlotb"
      },
      "source": [
        "Due to high time consumption and connectivity problem model did not get trained."
      ]
    }
  ]
}