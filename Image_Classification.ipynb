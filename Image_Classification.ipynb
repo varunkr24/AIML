{
  "nbformat": 4,
  "nbformat_minor": 0,
  "metadata": {
    "colab": {
      "name": "Image Classification.ipynb",
      "provenance": [],
      "authorship_tag": "ABX9TyOUXNWE6mte6hLAt4C1SFX6",
      "include_colab_link": true
    },
    "kernelspec": {
      "name": "python3",
      "display_name": "Python 3"
    }
  },
  "cells": [
    {
      "cell_type": "markdown",
      "metadata": {
        "id": "view-in-github",
        "colab_type": "text"
      },
      "source": [
        "<a href=\"https://colab.research.google.com/github/varunkr24/AIML/blob/Python/Image_Classification.ipynb\" target=\"_parent\"><img src=\"https://colab.research.google.com/assets/colab-badge.svg\" alt=\"Open In Colab\"/></a>"
      ]
    },
    {
      "cell_type": "code",
      "metadata": {
        "id": "IlspsTFtIDZD"
      },
      "source": [
        "import numpy as np\r\n",
        "import h5py\r\n",
        "import pandas as pd\r\n",
        "import seaborn as sns\r\n",
        "import matplotlib.pyplot as plt\r\n",
        "%matplotlib inline"
      ],
      "execution_count": 1,
      "outputs": []
    },
    {
      "cell_type": "code",
      "metadata": {
        "colab": {
          "base_uri": "https://localhost:8080/",
          "height": 35
        },
        "id": "hJSkwL8mu1it",
        "outputId": "b6a5a947-31d3-49af-99e6-fea698bc4713"
      },
      "source": [
        "%tensorflow_version 2.x\r\n",
        "import tensorflow\r\n",
        "tensorflow.__version__"
      ],
      "execution_count": 2,
      "outputs": [
        {
          "output_type": "execute_result",
          "data": {
            "application/vnd.google.colaboratory.intrinsic+json": {
              "type": "string"
            },
            "text/plain": [
              "'2.4.1'"
            ]
          },
          "metadata": {
            "tags": []
          },
          "execution_count": 2
        }
      ]
    },
    {
      "cell_type": "code",
      "metadata": {
        "id": "PhUUU114u8Hr"
      },
      "source": [
        "import random\r\n",
        "random.seed(0)\r\n",
        "\r\n",
        "# Ignore the warnings\r\n",
        "import warnings\r\n",
        "warnings.filterwarnings(\"ignore\")"
      ],
      "execution_count": 3,
      "outputs": []
    },
    {
      "cell_type": "code",
      "metadata": {
        "colab": {
          "base_uri": "https://localhost:8080/"
        },
        "id": "XoxJ1u1wG5xJ",
        "outputId": "84bab259-cf03-4733-ab07-de294a2998c7"
      },
      "source": [
        "from google.colab import drive\r\n",
        "drive.mount('/content/drive')"
      ],
      "execution_count": 7,
      "outputs": [
        {
          "output_type": "stream",
          "text": [
            "Mounted at /content/drive\n"
          ],
          "name": "stdout"
        }
      ]
    },
    {
      "cell_type": "code",
      "metadata": {
        "id": "98RwSg2fG7Pu"
      },
      "source": [
        "path = \"/content/drive/MyDrive/AIML/Projects/NN Project/NN Project/Autonomous_Vehicles_SVHN_single_grey1.h5\""
      ],
      "execution_count": 8,
      "outputs": []
    },
    {
      "cell_type": "code",
      "metadata": {
        "id": "OUKBzn5VHo3T"
      },
      "source": [
        "f = h5py.File(path, 'r')"
      ],
      "execution_count": 9,
      "outputs": []
    },
    {
      "cell_type": "code",
      "metadata": {
        "colab": {
          "base_uri": "https://localhost:8080/"
        },
        "id": "9nsWgSxIVw_v",
        "outputId": "5bacc653-9621-412a-c13c-59525bdd60ca"
      },
      "source": [
        "list(f.keys())"
      ],
      "execution_count": 10,
      "outputs": [
        {
          "output_type": "execute_result",
          "data": {
            "text/plain": [
              "['X_test', 'X_train', 'X_val', 'y_test', 'y_train', 'y_val']"
            ]
          },
          "metadata": {
            "tags": []
          },
          "execution_count": 10
        }
      ]
    },
    {
      "cell_type": "code",
      "metadata": {
        "colab": {
          "base_uri": "https://localhost:8080/"
        },
        "id": "0RgcAM-TcgPv",
        "outputId": "28df429f-0862-4e9e-9e6c-fe3fa22354f0"
      },
      "source": [
        "f['X_test'].shape"
      ],
      "execution_count": 11,
      "outputs": [
        {
          "output_type": "execute_result",
          "data": {
            "text/plain": [
              "(18000, 32, 32)"
            ]
          },
          "metadata": {
            "tags": []
          },
          "execution_count": 11
        }
      ]
    },
    {
      "cell_type": "code",
      "metadata": {
        "colab": {
          "base_uri": "https://localhost:8080/"
        },
        "id": "xpDgKX_hVhwT",
        "outputId": "b145360c-b4c3-4328-a86b-052f26180521"
      },
      "source": [
        "f['X_train'].shape"
      ],
      "execution_count": 12,
      "outputs": [
        {
          "output_type": "execute_result",
          "data": {
            "text/plain": [
              "(42000, 32, 32)"
            ]
          },
          "metadata": {
            "tags": []
          },
          "execution_count": 12
        }
      ]
    },
    {
      "cell_type": "code",
      "metadata": {
        "colab": {
          "base_uri": "https://localhost:8080/",
          "height": 300
        },
        "id": "PzEGDFecpavb",
        "outputId": "90424948-a75d-41fb-a1a2-451b5aae3d88"
      },
      "source": [
        "import matplotlib.pyplot as plt\r\n",
        "%matplotlib inline\r\n",
        "print(\"Label: {}\".format(f['y_train'][8000]))\r\n",
        "plt.imshow(f['X_train'][8000], cmap='gray')"
      ],
      "execution_count": 14,
      "outputs": [
        {
          "output_type": "stream",
          "text": [
            "Label: 7\n"
          ],
          "name": "stdout"
        },
        {
          "output_type": "execute_result",
          "data": {
            "text/plain": [
              "<matplotlib.image.AxesImage at 0x7fd80817b450>"
            ]
          },
          "metadata": {
            "tags": []
          },
          "execution_count": 14
        },
        {
          "output_type": "display_data",
          "data": {
            "image/png": "[encoded data removed]",
            "text/plain": [
              "<Figure size 432x288 with 1 Axes>"
            ]
          },
          "metadata": {
            "tags": [],
            "needs_background": "light"
          }
        }
      ]
    },
    {
      "cell_type": "code",
      "metadata": {
        "colab": {
          "base_uri": "https://localhost:8080/"
        },
        "id": "Vp2j51DkvQsF",
        "outputId": "efe1c653-e93a-4676-f030-ae3f3a1f5ce0"
      },
      "source": [
        "print(f['X_train'].shape)\r\n",
        "print(f['y_train'].shape)\r\n",
        "print(f['X_test'].shape)\r\n",
        "print(f['y_test'].shape)\r\n",
        "print(f['X_val'].shape)\r\n",
        "print(f['y_val'].shape)"
      ],
      "execution_count": 17,
      "outputs": [
        {
          "output_type": "stream",
          "text": [
            "(42000, 32, 32)\n",
            "(42000,)\n",
            "(18000, 32, 32)\n",
            "(18000,)\n",
            "(60000, 32, 32)\n",
            "(60000,)\n"
          ],
          "name": "stdout"
        }
      ]
    },
    {
      "cell_type": "code",
      "metadata": {
        "id": "PaoAaJcOhGIS"
      },
      "source": [
        "x_train = f['X_val'].value.reshape(f['X_val'].shape[0], 32, 32,1)\r\n",
        "x_val = f['X_train'].value.reshape(f['X_train'].shape[0], 32, 32,1)\r\n",
        "x_test = f['X_test'].value.reshape(f['X_test'].shape[0], 32, 32,1)"
      ],
      "execution_count": 18,
      "outputs": []
    },
    {
      "cell_type": "code",
      "metadata": {
        "id": "YQGbeNjbo9XW"
      },
      "source": [
        "y_train = f['y_val']\r\n",
        "y_val = f['y_train']\r\n",
        "y_test = f['y_test']"
      ],
      "execution_count": 23,
      "outputs": []
    },
    {
      "cell_type": "code",
      "metadata": {
        "colab": {
          "base_uri": "https://localhost:8080/"
        },
        "id": "o8fvsWi88N6G",
        "outputId": "f4e357d9-4538-4f71-bedf-94558fae2ead"
      },
      "source": [
        "x_train.shape"
      ],
      "execution_count": 19,
      "outputs": [
        {
          "output_type": "execute_result",
          "data": {
            "text/plain": [
              "(60000, 32, 32, 1)"
            ]
          },
          "metadata": {
            "tags": []
          },
          "execution_count": 19
        }
      ]
    },
    {
      "cell_type": "code",
      "metadata": {
        "id": "YxHopE-6ZRsv"
      },
      "source": [
        "x_train = x_train.astype('float32')/255\r\n",
        "x_val = x_val.astype('float32')/255\r\n",
        "x_test = x_test.astype('float32')/255"
      ],
      "execution_count": 20,
      "outputs": []
    },
    {
      "cell_type": "code",
      "metadata": {
        "colab": {
          "base_uri": "https://localhost:8080/"
        },
        "id": "Lz47AFUVhodM",
        "outputId": "a3ba423a-6ebc-4c1f-cd34-590896d6db11"
      },
      "source": [
        "print(\"x_train shape:\", x_train.shape)\r\n",
        "print(\"Images in x_train:\", x_train.shape[0])\r\n",
        "print(\"Images in x_test:\", x_test.shape[0])\r\n",
        "print(\"Max value in x_train:\", x_test.max())\r\n",
        "print(\"Min value in x_train:\", x_test.min())\r\n",
        "print(\"Max value in x_test:\", x_test.max())\r\n",
        "print(\"Min value in x_test:\", x_test.min())"
      ],
      "execution_count": 22,
      "outputs": [
        {
          "output_type": "stream",
          "text": [
            "x_train shape: (60000, 32, 32, 1)\n",
            "Images in x_train: 60000\n",
            "Images in x_test: 18000\n",
            "Max value in x_train: 0.9999\n",
            "Min value in x_train: 0.0\n",
            "Max value in x_test: 0.9999\n",
            "Min value in x_test: 0.0\n"
          ],
          "name": "stdout"
        }
      ]
    },
    {
      "cell_type": "code",
      "metadata": {
        "id": "TXODZAmIh-hk"
      },
      "source": [
        "from tensorflow.keras.utils import to_categorical\r\n",
        "\r\n",
        "y_train = to_categorical(y_train, num_classes=10)\r\n",
        "y_val = to_categorical(y_val, num_classes=10)\r\n",
        "y_test = to_categorical(y_test, num_classes=10)"
      ],
      "execution_count": 24,
      "outputs": []
    },
    {
      "cell_type": "code",
      "metadata": {
        "colab": {
          "base_uri": "https://localhost:8080/"
        },
        "id": "fxCwUj3Gitoo",
        "outputId": "5a1aa230-8d9c-4b23-9313-edf9f6ac6e01"
      },
      "source": [
        "print(\"Shape of y_train:\", y_train.shape)\r\n",
        "print(\"One value of y_train:\", y_train[0])"
      ],
      "execution_count": 25,
      "outputs": [
        {
          "output_type": "stream",
          "text": [
            "Shape of y_train: (60000, 10)\n",
            "One value of y_train: [1. 0. 0. 0. 0. 0. 0. 0. 0. 0.]\n"
          ],
          "name": "stdout"
        }
      ]
    },
    {
      "cell_type": "code",
      "metadata": {
        "id": "PXFQmCfziL7Y"
      },
      "source": [
        "from tensorflow.keras.models import Sequential\r\n",
        "from tensorflow.keras.layers import Flatten, Dense\r\n",
        "\r\n",
        "model = Sequential()\r\n",
        "model.add(Flatten())\r\n",
        "model.add(Dense(128, activation=\"relu\"))\r\n",
        "model.add(Dense(10, activation=\"softmax\"))"
      ],
      "execution_count": 26,
      "outputs": []
    },
    {
      "cell_type": "code",
      "metadata": {
        "colab": {
          "base_uri": "https://localhost:8080/"
        },
        "id": "fgGHEV1hp1hr",
        "outputId": "b9d113bb-96d3-4ec2-a003-05e5302a86c5"
      },
      "source": [
        "# Compile the model\r\n",
        "model.compile(loss=\"categorical_crossentropy\", metrics=[\"accuracy\"], optimizer=\"sgd\")\r\n",
        "\r\n",
        "# Fit the model\r\n",
        "model.fit(x=x_train, y=y_train, batch_size=32, epochs=10, validation_data=(x_val, y_val))"
      ],
      "execution_count": 27,
      "outputs": [
        {
          "output_type": "stream",
          "text": [
            "Epoch 1/10\n",
            "1875/1875 [==============================] - 6s 3ms/step - loss: 2.2858 - accuracy: 0.1477 - val_loss: 2.1403 - val_accuracy: 0.3398\n",
            "Epoch 2/10\n",
            "1875/1875 [==============================] - 5s 3ms/step - loss: 2.0650 - accuracy: 0.3653 - val_loss: 1.7964 - val_accuracy: 0.5246\n",
            "Epoch 3/10\n",
            "1875/1875 [==============================] - 5s 3ms/step - loss: 1.7294 - accuracy: 0.5087 - val_loss: 1.5311 - val_accuracy: 0.5786\n",
            "Epoch 4/10\n",
            "1875/1875 [==============================] - 5s 3ms/step - loss: 1.4727 - accuracy: 0.5897 - val_loss: 1.3640 - val_accuracy: 0.6161\n",
            "Epoch 5/10\n",
            "1875/1875 [==============================] - 6s 3ms/step - loss: 1.3149 - accuracy: 0.6323 - val_loss: 1.2357 - val_accuracy: 0.6450\n",
            "Epoch 6/10\n",
            "1875/1875 [==============================] - 6s 3ms/step - loss: 1.2059 - accuracy: 0.6547 - val_loss: 1.1592 - val_accuracy: 0.6694\n",
            "Epoch 7/10\n",
            "1875/1875 [==============================] - 6s 3ms/step - loss: 1.1327 - accuracy: 0.6729 - val_loss: 1.0876 - val_accuracy: 0.6883\n",
            "Epoch 8/10\n",
            "1875/1875 [==============================] - 6s 3ms/step - loss: 1.0825 - accuracy: 0.6833 - val_loss: 1.0825 - val_accuracy: 0.6752\n",
            "Epoch 9/10\n",
            "1875/1875 [==============================] - 5s 3ms/step - loss: 1.0296 - accuracy: 0.6988 - val_loss: 1.0097 - val_accuracy: 0.7047\n",
            "Epoch 10/10\n",
            "1875/1875 [==============================] - 5s 3ms/step - loss: 1.0039 - accuracy: 0.7040 - val_loss: 0.9547 - val_accuracy: 0.7245\n"
          ],
          "name": "stdout"
        },
        {
          "output_type": "execute_result",
          "data": {
            "text/plain": [
              "<tensorflow.python.keras.callbacks.History at 0x7fd803966350>"
            ]
          },
          "metadata": {
            "tags": []
          },
          "execution_count": 27
        }
      ]
    },
    {
      "cell_type": "code",
      "metadata": {
        "id": "VzsVa84Vspmh"
      },
      "source": [
        "def create_model(lr, Lambda):\r\n",
        "\r\n",
        "    ## hyperparameters\r\n",
        "    learning_rate = lr\r\n",
        "    hidden_nodes = 11\r\n",
        "    output_nodes = 1\r\n",
        "        \r\n",
        "    model = Sequential()\r\n",
        "    model.add(Dense(hidden_nodes, input_shape=(11,), activation='relu'))\r\n",
        "    model.add(Dense(hidden_nodes, activation='relu'))\r\n",
        "    model.add(Dense(output_nodes, kernel_regularizer=regularizers.l2(Lambda)))\r\n",
        "    \r\n",
        "    sgd = optimizers.SGD(lr=lr, decay=1e-7, momentum=0.9)\r\n",
        "    # Compile model\r\n",
        "    model.compile(loss='mean_squared_error', optimizer=sgd, metrics=['mse'])\r\n",
        "    return model\r\n",
        "    \r\n",
        "    "
      ],
      "execution_count": null,
      "outputs": []
    }
  ]
}