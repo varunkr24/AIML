{
  "nbformat": 4,
  "nbformat_minor": 0,
  "metadata": {
    "colab": {
      "name": "Untitled28.ipynb",
      "provenance": [],
      "authorship_tag": "ABX9TyM7qsKuLaqVYkei+LM2BduF",
      "include_colab_link": true
    },
    "kernelspec": {
      "name": "python3",
      "display_name": "Python 3"
    },
    "language_info": {
      "name": "python"
    }
  },
  "cells": [
    {
      "cell_type": "markdown",
      "metadata": {
        "id": "view-in-github",
        "colab_type": "text"
      },
      "source": [
        "<a href=\"https://colab.research.google.com/github/varunkr24/AIML/blob/Python/longest_time_taken_by_emplyoee.ipynb\" target=\"_parent\"><img src=\"https://colab.research.google.com/assets/colab-badge.svg\" alt=\"Open In Colab\"/></a>"
      ]
    },
    {
      "cell_type": "code",
      "execution_count": 40,
      "metadata": {
        "id": "4Gf3gIdFa9x2"
      },
      "outputs": [],
      "source": [
        "a = [[0,3],[1,5],[2,19],[3,21]]"
      ]
    },
    {
      "cell_type": "code",
      "source": [
        "for i in a:\n",
        "  j,k = i\n",
        "  print(j,k)"
      ],
      "metadata": {
        "colab": {
          "base_uri": "https://localhost:8080/"
        },
        "id": "L89KCQUVbHJs",
        "outputId": "29de0dcb-4d38-4177-ffec-72db6214c10a"
      },
      "execution_count": 28,
      "outputs": [
        {
          "output_type": "stream",
          "name": "stdout",
          "text": [
            "0 3\n",
            "1 5\n",
            "2 9\n",
            "3 15\n"
          ]
        }
      ]
    },
    {
      "cell_type": "code",
      "source": [
        "dist_list = list()\n",
        "for i in enumerate(a):\n",
        "  dis = i[1][1]\n",
        "  dist_list.append(dis)\n",
        "print(dist_list)"
      ],
      "metadata": {
        "colab": {
          "base_uri": "https://localhost:8080/"
        },
        "id": "TVHvJN1QcbkS",
        "outputId": "9c759c60-29ca-4512-82c2-20417d4e7c98"
      },
      "execution_count": 41,
      "outputs": [
        {
          "output_type": "stream",
          "name": "stdout",
          "text": [
            "[3, 5, 19, 21]\n"
          ]
        }
      ]
    },
    {
      "cell_type": "code",
      "source": [
        "dis = list()\n",
        "for i in range(len(dist_list)):\n",
        "  if i == 0:\n",
        "    dis.append(dist_list[i])\n",
        "  else:\n",
        "    dis.append(dist_list[i]-dist_list[i-1])\n",
        "print(dis)"
      ],
      "metadata": {
        "colab": {
          "base_uri": "https://localhost:8080/"
        },
        "id": "1JOpBs_GhJyu",
        "outputId": "97e469b0-bec8-42e3-c6a4-eda6b53faa6f"
      },
      "execution_count": 42,
      "outputs": [
        {
          "output_type": "stream",
          "name": "stdout",
          "text": [
            "[3, 2, 14, 2]\n"
          ]
        }
      ]
    },
    {
      "cell_type": "code",
      "source": [
        "for i in range(len(dis)):\n",
        "  if dis[i] == max(dis):\n",
        "    print(string.ascii_lowercase[i])\n",
        "    "
      ],
      "metadata": {
        "colab": {
          "base_uri": "https://localhost:8080/"
        },
        "id": "4sGFJs1fhkXR",
        "outputId": "212ccf48-56c2-480e-d570-ee34a4129158"
      },
      "execution_count": 57,
      "outputs": [
        {
          "output_type": "stream",
          "name": "stdout",
          "text": [
            "c\n"
          ]
        }
      ]
    },
    {
      "cell_type": "code",
      "source": [
        "import string"
      ],
      "metadata": {
        "id": "PEb6hBspjnyJ"
      },
      "execution_count": 52,
      "outputs": []
    },
    {
      "cell_type": "code",
      "source": [
        "string.ascii_lowercase[2]"
      ],
      "metadata": {
        "colab": {
          "base_uri": "https://localhost:8080/",
          "height": 38
        },
        "id": "koS6fRRSjtao",
        "outputId": "0e3b40c5-a823-4373-81b2-cd9d89369d8b"
      },
      "execution_count": 54,
      "outputs": [
        {
          "output_type": "execute_result",
          "data": {
            "text/plain": [
              "'c'"
            ],
            "application/vnd.google.colaboratory.intrinsic+json": {
              "type": "string"
            }
          },
          "metadata": {},
          "execution_count": 54
        }
      ]
    },
    {
      "cell_type": "code",
      "source": [
        "def fun(array):\n",
        "        dist_list = list()\n",
        "        dis = list()\n",
        "        for i in enumerate(a):\n",
        "          dist = i[1][1]\n",
        "          dist_list.append(dist)\n",
        "        for j in range(len(dist_list)):\n",
        "          if j == 0:\n",
        "            dis.append(dist_list[j])\n",
        "          else:\n",
        "            dis.append(dist_list[j]-dist_list[j-1])\n",
        "        for k in range(len(dis)):\n",
        "          if dis[k] == max(dis):\n",
        "            return string.ascii_lowercase[k]"
      ],
      "metadata": {
        "id": "c0tH7Ushq2uQ"
      },
      "execution_count": 64,
      "outputs": []
    },
    {
      "cell_type": "code",
      "source": [
        "fun(a)"
      ],
      "metadata": {
        "colab": {
          "base_uri": "https://localhost:8080/",
          "height": 38
        },
        "id": "SDnEdZwArmEC",
        "outputId": "2a1f2106-8291-4eaa-b96f-b4a43085e040"
      },
      "execution_count": 65,
      "outputs": [
        {
          "output_type": "execute_result",
          "data": {
            "text/plain": [
              "'c'"
            ],
            "application/vnd.google.colaboratory.intrinsic+json": {
              "type": "string"
            }
          },
          "metadata": {},
          "execution_count": 65
        }
      ]
    }
  ]
}